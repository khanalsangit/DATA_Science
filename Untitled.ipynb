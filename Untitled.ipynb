{
 "cells": [
  {
   "cell_type": "code",
   "execution_count": null,
   "id": "460f27e3",
   "metadata": {},
   "outputs": [],
   "source": [
    "import pandas as pd"
   ]
  },
  {
   "cell_type": "code",
   "execution_count": null,
   "id": "e20b0fa1",
   "metadata": {},
   "outputs": [],
   "source": [
    "# reading the dataset using pandas"
   ]
  },
  {
   "cell_type": "code",
   "execution_count": null,
   "id": "8459e084",
   "metadata": {},
   "outputs": [],
   "source": [
    "dataset=pd.read_csv('/stepo/python/placement.csv')\n",
    "dataset"
   ]
  },
  {
   "cell_type": "code",
   "execution_count": null,
   "id": "ad0c922b",
   "metadata": {},
   "outputs": [],
   "source": [
    "dataset.shape"
   ]
  },
  {
   "cell_type": "code",
   "execution_count": null,
   "id": "caf30529",
   "metadata": {},
   "outputs": [],
   "source": [
    "#preprocessing the dataset remove unwanted column \n",
    "dataset=dataset.iloc[:,1:]\n",
    "dataset"
   ]
  },
  {
   "cell_type": "code",
   "execution_count": null,
   "id": "bcb82b27",
   "metadata": {},
   "outputs": [],
   "source": [
    "# checking of null value in dataset\n",
    "dataset.isnull().sum()"
   ]
  },
  {
   "cell_type": "code",
   "execution_count": null,
   "id": "83b4f87d",
   "metadata": {},
   "outputs": [],
   "source": [
    "# visualization of data\n",
    "import matplotlib.pyplot as plt\n",
    "plt.scatter(dataset['cgpa'],dataset['iq'],c=dataset['placement'])"
   ]
  },
  {
   "cell_type": "code",
   "execution_count": null,
   "id": "c60436cc",
   "metadata": {},
   "outputs": [],
   "source": [
    "# spliting the data for train and test\n",
    "input=dataset.iloc[:,:2]\n",
    "input"
   ]
  },
  {
   "cell_type": "code",
   "execution_count": null,
   "id": "e73f651f",
   "metadata": {},
   "outputs": [],
   "source": [
    "label=dataset.iloc[:,-1]\n",
    "label"
   ]
  },
  {
   "cell_type": "code",
   "execution_count": null,
   "id": "f5c699e9",
   "metadata": {},
   "outputs": [],
   "source": [
    "# split the data into train and test\n",
    "from sklearn.model_selection import train_test_split\n",
    "train_input,test_input,train_label,test_label=train_test_split(input,label,test_size=0.10)"
   ]
  },
  {
   "cell_type": "code",
   "execution_count": null,
   "id": "27c0dda4",
   "metadata": {},
   "outputs": [],
   "source": [
    "train_input,test_input,train_label,test_label"
   ]
  },
  {
   "cell_type": "code",
   "execution_count": null,
   "id": "49c87aee",
   "metadata": {},
   "outputs": [],
   "source": [
    "# scale the value in -1 to 1 range i.e normalization\n",
    "from sklearn.preprocessing import StandardScaler\n",
    "scaler=StandardScaler()"
   ]
  },
  {
   "cell_type": "code",
   "execution_count": null,
   "id": "c325e7f7",
   "metadata": {},
   "outputs": [],
   "source": [
    "train_input=scaler.fit_transform(train_input)\n",
    "train_input"
   ]
  },
  {
   "cell_type": "code",
   "execution_count": null,
   "id": "1844e245",
   "metadata": {},
   "outputs": [],
   "source": [
    "test_input=scaler.transform(test_input)\n",
    "test_input"
   ]
  },
  {
   "cell_type": "code",
   "execution_count": null,
   "id": "97be4c76",
   "metadata": {},
   "outputs": [],
   "source": [
    "train_input=train_input.values\n",
    "train_input"
   ]
  },
  {
   "cell_type": "code",
   "execution_count": null,
   "id": "7a895613",
   "metadata": {},
   "outputs": [],
   "source": [
    "train_label=train_label.values\n",
    "train_label"
   ]
  },
  {
   "cell_type": "code",
   "execution_count": null,
   "id": "7bf48e71",
   "metadata": {},
   "outputs": [],
   "source": [
    "# train the model\n",
    "from sklearn.linear_model import LogisticRegression"
   ]
  },
  {
   "cell_type": "code",
   "execution_count": null,
   "id": "d5703f39",
   "metadata": {},
   "outputs": [],
   "source": [
    "# creating the object of LogisticRegression class\n",
    "obj=LogisticRegression()"
   ]
  },
  {
   "cell_type": "code",
   "execution_count": null,
   "id": "c1e25491",
   "metadata": {},
   "outputs": [],
   "source": [
    "train_input=train_input.values\n",
    "train_input"
   ]
  },
  {
   "cell_type": "code",
   "execution_count": null,
   "id": "5c4497b3",
   "metadata": {},
   "outputs": [],
   "source": [
    "train_input.shape"
   ]
  },
  {
   "cell_type": "code",
   "execution_count": null,
   "id": "e0045f37",
   "metadata": {},
   "outputs": [],
   "source": [
    "obj.fit(train_input,train_label)"
   ]
  },
  {
   "cell_type": "code",
   "execution_count": null,
   "id": "d1629930",
   "metadata": {},
   "outputs": [],
   "source": [
    "test_input=test_input.values\n",
    "test_input"
   ]
  },
  {
   "cell_type": "code",
   "execution_count": null,
   "id": "7daff399",
   "metadata": {},
   "outputs": [],
   "source": [
    "model_pred=obj.predict(test_input)\n",
    "model_pred"
   ]
  },
  {
   "cell_type": "code",
   "execution_count": null,
   "id": "82200eeb",
   "metadata": {},
   "outputs": [],
   "source": [
    "test_label.values"
   ]
  },
  {
   "cell_type": "code",
   "execution_count": null,
   "id": "0f240481",
   "metadata": {},
   "outputs": [],
   "source": [
    "from sklearn.metrics import accuracy_score\n",
    "accuracy_score(test_label,model_pred)"
   ]
  },
  {
   "cell_type": "code",
   "execution_count": null,
   "id": "adcb08f6",
   "metadata": {},
   "outputs": [],
   "source": [
    "!pip install mlxtend"
   ]
  },
  {
   "cell_type": "code",
   "execution_count": null,
   "id": "6ad246d0",
   "metadata": {},
   "outputs": [],
   "source": [
    "from mlxtend.plotting import plot_decision_regions"
   ]
  },
  {
   "cell_type": "code",
   "execution_count": null,
   "id": "3e67e483",
   "metadata": {},
   "outputs": [],
   "source": [
    "# plotting the model behaviour in our dataset\n",
    "plot_decision_regions(train_input, train_label, clf=obj, legend=2)"
   ]
  },
  {
   "cell_type": "code",
   "execution_count": null,
   "id": "d487a838",
   "metadata": {},
   "outputs": [],
   "source": [
    "# transform model into the file for transfer in any system\n",
    "import pickle"
   ]
  },
  {
   "cell_type": "code",
   "execution_count": null,
   "id": "08fb7ca7",
   "metadata": {},
   "outputs": [],
   "source": [
    "pickle.dump(obj,open('model_place.pkl','wb'))"
   ]
  },
  {
   "cell_type": "code",
   "execution_count": null,
   "id": "95ceeabb",
   "metadata": {},
   "outputs": [],
   "source": [
    "check=dataset.sample(5)\n",
    "check"
   ]
  },
  {
   "cell_type": "code",
   "execution_count": null,
   "id": "73903ff1",
   "metadata": {},
   "outputs": [],
   "source": [
    "check_model=check.iloc[:,:2].values"
   ]
  },
  {
   "cell_type": "code",
   "execution_count": null,
   "id": "25895c9f",
   "metadata": {},
   "outputs": [],
   "source": [
    "obj.predict(check_model)"
   ]
  },
  {
   "cell_type": "code",
   "execution_count": null,
   "id": "a5ef9b25",
   "metadata": {},
   "outputs": [],
   "source": []
  }
 ],
 "metadata": {
  "kernelspec": {
   "display_name": "Python 3 (ipykernel)",
   "language": "python",
   "name": "python3"
  },
  "language_info": {
   "codemirror_mode": {
    "name": "ipython",
    "version": 3
   },
   "file_extension": ".py",
   "mimetype": "text/x-python",
   "name": "python",
   "nbconvert_exporter": "python",
   "pygments_lexer": "ipython3",
   "version": "3.10.5"
  }
 },
 "nbformat": 4,
 "nbformat_minor": 5
}
