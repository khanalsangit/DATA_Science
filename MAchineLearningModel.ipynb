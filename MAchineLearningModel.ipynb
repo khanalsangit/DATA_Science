{
 "cells": [
  {
   "cell_type": "code",
   "execution_count": 1,
   "id": "102399eb",
   "metadata": {},
   "outputs": [],
   "source": [
    "import pandas as pd\n",
    "import numpy as np"
   ]
  },
  {
   "cell_type": "code",
   "execution_count": 3,
   "id": "32bac674",
   "metadata": {},
   "outputs": [
    {
     "data": {
      "text/html": [
       "<div>\n",
       "<style scoped>\n",
       "    .dataframe tbody tr th:only-of-type {\n",
       "        vertical-align: middle;\n",
       "    }\n",
       "\n",
       "    .dataframe tbody tr th {\n",
       "        vertical-align: top;\n",
       "    }\n",
       "\n",
       "    .dataframe thead th {\n",
       "        text-align: right;\n",
       "    }\n",
       "</style>\n",
       "<table border=\"1\" class=\"dataframe\">\n",
       "  <thead>\n",
       "    <tr style=\"text-align: right;\">\n",
       "      <th></th>\n",
       "      <th>cgpa</th>\n",
       "      <th>iq</th>\n",
       "      <th>placement</th>\n",
       "    </tr>\n",
       "  </thead>\n",
       "  <tbody>\n",
       "    <tr>\n",
       "      <th>0</th>\n",
       "      <td>6.8</td>\n",
       "      <td>123.0</td>\n",
       "      <td>1</td>\n",
       "    </tr>\n",
       "    <tr>\n",
       "      <th>1</th>\n",
       "      <td>5.9</td>\n",
       "      <td>106.0</td>\n",
       "      <td>0</td>\n",
       "    </tr>\n",
       "    <tr>\n",
       "      <th>2</th>\n",
       "      <td>5.3</td>\n",
       "      <td>121.0</td>\n",
       "      <td>0</td>\n",
       "    </tr>\n",
       "    <tr>\n",
       "      <th>3</th>\n",
       "      <td>7.4</td>\n",
       "      <td>132.0</td>\n",
       "      <td>1</td>\n",
       "    </tr>\n",
       "    <tr>\n",
       "      <th>4</th>\n",
       "      <td>5.8</td>\n",
       "      <td>142.0</td>\n",
       "      <td>0</td>\n",
       "    </tr>\n",
       "  </tbody>\n",
       "</table>\n",
       "</div>"
      ],
      "text/plain": [
       "   cgpa     iq  placement\n",
       "0   6.8  123.0          1\n",
       "1   5.9  106.0          0\n",
       "2   5.3  121.0          0\n",
       "3   7.4  132.0          1\n",
       "4   5.8  142.0          0"
      ]
     },
     "execution_count": 3,
     "metadata": {},
     "output_type": "execute_result"
    }
   ],
   "source": [
    "df=pd.read_csv('placement.csv',usecols=['cgpa','iq','placement'])\n",
    "df.head()"
   ]
  },
  {
   "cell_type": "code",
   "execution_count": 6,
   "id": "b42eacba",
   "metadata": {},
   "outputs": [
    {
     "name": "stdout",
     "output_type": "stream",
     "text": [
      "Defaulting to user installation because normal site-packages is not writeable\n",
      "Collecting plotly_express==0.4.\n",
      "  Downloading plotly_express-0.4.0-py2.py3-none-any.whl (2.1 kB)\n",
      "Collecting 0\n",
      "  Downloading 0-0.0.0-py2.py3-none-any.whl (2.0 kB)\n",
      "Requirement already satisfied: pandas>=0.20.0 in c:\\users\\dell\\appdata\\roaming\\python\\python310\\site-packages (from plotly_express==0.4.) (1.4.3)\n",
      "Requirement already satisfied: plotly>=4.0.0 in c:\\users\\dell\\appdata\\roaming\\python\\python310\\site-packages (from plotly_express==0.4.) (5.15.0)\n",
      "Requirement already satisfied: patsy>=0.5 in c:\\users\\dell\\appdata\\roaming\\python\\python310\\site-packages (from plotly_express==0.4.) (0.5.3)\n",
      "Requirement already satisfied: numpy>=1.11 in c:\\users\\dell\\appdata\\roaming\\python\\python310\\site-packages (from plotly_express==0.4.) (1.23.0)\n",
      "Requirement already satisfied: scipy>=0.18 in c:\\users\\dell\\appdata\\roaming\\python\\python310\\site-packages (from plotly_express==0.4.) (1.8.1)\n",
      "Requirement already satisfied: statsmodels>=0.9.0 in c:\\users\\dell\\appdata\\roaming\\python\\python310\\site-packages (from plotly_express==0.4.) (0.14.0)\n",
      "Requirement already satisfied: python-dateutil>=2.8.1 in c:\\users\\dell\\appdata\\roaming\\python\\python310\\site-packages (from pandas>=0.20.0->plotly_express==0.4.) (2.8.2)\n",
      "Requirement already satisfied: pytz>=2020.1 in c:\\users\\dell\\appdata\\roaming\\python\\python310\\site-packages (from pandas>=0.20.0->plotly_express==0.4.) (2022.1)\n",
      "Requirement already satisfied: six in c:\\users\\dell\\appdata\\roaming\\python\\python310\\site-packages (from patsy>=0.5->plotly_express==0.4.) (1.16.0)\n",
      "Requirement already satisfied: tenacity>=6.2.0 in c:\\users\\dell\\appdata\\roaming\\python\\python310\\site-packages (from plotly>=4.0.0->plotly_express==0.4.) (8.2.2)\n",
      "Requirement already satisfied: packaging in c:\\users\\dell\\appdata\\roaming\\python\\python310\\site-packages (from plotly>=4.0.0->plotly_express==0.4.) (21.3)\n",
      "Requirement already satisfied: pyparsing!=3.0.5,>=2.0.2 in c:\\users\\dell\\appdata\\roaming\\python\\python310\\site-packages (from packaging->plotly>=4.0.0->plotly_express==0.4.) (3.0.9)\n",
      "Installing collected packages: 0, plotly_express\n",
      "Successfully installed 0-0.0.0 plotly_express-0.4.0\n"
     ]
    },
    {
     "name": "stderr",
     "output_type": "stream",
     "text": [
      "\n",
      "[notice] A new release of pip is available: 23.0.1 -> 23.1.2\n",
      "[notice] To update, run: python.exe -m pip install --upgrade pip\n"
     ]
    }
   ],
   "source": [
    "!pip install plotly_express==0.4. 0"
   ]
  },
  {
   "cell_type": "code",
   "execution_count": 8,
   "id": "a39fb9ee",
   "metadata": {},
   "outputs": [],
   "source": [
    "import plotly.express as px"
   ]
  },
  {
   "cell_type": "code",
   "execution_count": 16,
   "id": "693e3f8e",
   "metadata": {},
   "outputs": [
    {
     "data": {
      "application/vnd.plotly.v1+json": {
       "config": {
        "plotlyServerURL": "https://plot.ly"
       },
       "data": [
        {
         "hovertemplate": "cgpa=%{x}<br>iq=%{y}<br>placement=%{z}<extra></extra>",
         "legendgroup": "",
         "marker": {
          "color": "#636efa",
          "symbol": "circle"
         },
         "mode": "markers",
         "name": "",
         "scene": "scene",
         "showlegend": false,
         "type": "scatter3d",
         "x": [
          6.8,
          5.9,
          5.3,
          7.4,
          5.8,
          7.1,
          5.7,
          5,
          6.1,
          5.1,
          6,
          6.9,
          5.4,
          6.4,
          6.1,
          5.1,
          5.2,
          3.3,
          4,
          5.2,
          6.6,
          7.1,
          4.9,
          4.7,
          4.7,
          5,
          7,
          6,
          5.2,
          7,
          7.6,
          3.9,
          7,
          6,
          4.8,
          6.8,
          5.7,
          8.1,
          6.5,
          4.6,
          4.9,
          5.4,
          7.6,
          6.8,
          7.5,
          6,
          5.3,
          5.2,
          6.6,
          5.4,
          3.5,
          4.8,
          7,
          8.3,
          6.4,
          7.8,
          6.1,
          6.5,
          8,
          4.8,
          6.9,
          7.3,
          6,
          6.3,
          7,
          8.1,
          6.9,
          5,
          4,
          8.5,
          6.3,
          6.1,
          7.3,
          4.9,
          6.7,
          4.8,
          4.9,
          7.3,
          6.1,
          6.5,
          4.9,
          5.4,
          6.5,
          7.5,
          5.7,
          5.8,
          5.1,
          5.7,
          4.4,
          4.9,
          7.3,
          7.5,
          5.2,
          6.8,
          4.7,
          4.3,
          4.4,
          6.7,
          6.3,
          6.2
         ],
         "y": [
          123,
          106,
          121,
          132,
          142,
          48,
          143,
          63,
          156,
          66,
          45,
          138,
          139,
          116,
          103,
          176,
          224,
          183,
          100,
          132,
          120,
          151,
          120,
          87,
          121,
          91,
          199,
          124,
          90,
          112,
          128,
          109,
          139,
          149,
          163,
          90,
          140,
          149,
          160,
          146,
          134,
          114,
          89,
          141,
          61,
          66,
          114,
          161,
          138,
          135,
          233,
          141,
          175,
          168,
          141,
          114,
          65,
          130,
          79,
          112,
          139,
          137,
          102,
          128,
          64,
          166,
          96,
          118,
          75,
          120,
          127,
          132,
          116,
          61,
          154,
          169,
          155,
          50,
          81,
          90,
          196,
          107,
          37,
          130,
          169,
          166,
          128,
          132,
          149,
          151,
          86,
          158,
          110,
          112,
          52,
          200,
          42,
          182,
          103,
          113
         ],
         "z": [
          1,
          0,
          0,
          1,
          0,
          1,
          0,
          0,
          0,
          0,
          1,
          1,
          0,
          1,
          0,
          0,
          0,
          0,
          0,
          0,
          1,
          1,
          0,
          0,
          0,
          0,
          1,
          1,
          0,
          1,
          1,
          0,
          1,
          0,
          0,
          1,
          0,
          1,
          1,
          0,
          0,
          0,
          1,
          1,
          1,
          1,
          0,
          0,
          1,
          0,
          0,
          0,
          1,
          1,
          1,
          1,
          0,
          1,
          1,
          0,
          1,
          1,
          0,
          1,
          1,
          1,
          1,
          0,
          0,
          1,
          1,
          1,
          1,
          0,
          1,
          0,
          0,
          1,
          0,
          1,
          0,
          0,
          1,
          1,
          0,
          1,
          0,
          1,
          0,
          0,
          1,
          1,
          0,
          1,
          0,
          0,
          0,
          1,
          1,
          1
         ]
        }
       ],
       "layout": {
        "legend": {
         "tracegroupgap": 0
        },
        "margin": {
         "t": 60
        },
        "scene": {
         "domain": {
          "x": [
           0,
           1
          ],
          "y": [
           0,
           1
          ]
         },
         "xaxis": {
          "title": {
           "text": "cgpa"
          }
         },
         "yaxis": {
          "title": {
           "text": "iq"
          }
         },
         "zaxis": {
          "title": {
           "text": "placement"
          }
         }
        },
        "template": {
         "data": {
          "bar": [
           {
            "error_x": {
             "color": "#2a3f5f"
            },
            "error_y": {
             "color": "#2a3f5f"
            },
            "marker": {
             "line": {
              "color": "#E5ECF6",
              "width": 0.5
             },
             "pattern": {
              "fillmode": "overlay",
              "size": 10,
              "solidity": 0.2
             }
            },
            "type": "bar"
           }
          ],
          "barpolar": [
           {
            "marker": {
             "line": {
              "color": "#E5ECF6",
              "width": 0.5
             },
             "pattern": {
              "fillmode": "overlay",
              "size": 10,
              "solidity": 0.2
             }
            },
            "type": "barpolar"
           }
          ],
          "carpet": [
           {
            "aaxis": {
             "endlinecolor": "#2a3f5f",
             "gridcolor": "white",
             "linecolor": "white",
             "minorgridcolor": "white",
             "startlinecolor": "#2a3f5f"
            },
            "baxis": {
             "endlinecolor": "#2a3f5f",
             "gridcolor": "white",
             "linecolor": "white",
             "minorgridcolor": "white",
             "startlinecolor": "#2a3f5f"
            },
            "type": "carpet"
           }
          ],
          "choropleth": [
           {
            "colorbar": {
             "outlinewidth": 0,
             "ticks": ""
            },
            "type": "choropleth"
           }
          ],
          "contour": [
           {
            "colorbar": {
             "outlinewidth": 0,
             "ticks": ""
            },
            "colorscale": [
             [
              0,
              "#0d0887"
             ],
             [
              0.1111111111111111,
              "#46039f"
             ],
             [
              0.2222222222222222,
              "#7201a8"
             ],
             [
              0.3333333333333333,
              "#9c179e"
             ],
             [
              0.4444444444444444,
              "#bd3786"
             ],
             [
              0.5555555555555556,
              "#d8576b"
             ],
             [
              0.6666666666666666,
              "#ed7953"
             ],
             [
              0.7777777777777778,
              "#fb9f3a"
             ],
             [
              0.8888888888888888,
              "#fdca26"
             ],
             [
              1,
              "#f0f921"
             ]
            ],
            "type": "contour"
           }
          ],
          "contourcarpet": [
           {
            "colorbar": {
             "outlinewidth": 0,
             "ticks": ""
            },
            "type": "contourcarpet"
           }
          ],
          "heatmap": [
           {
            "colorbar": {
             "outlinewidth": 0,
             "ticks": ""
            },
            "colorscale": [
             [
              0,
              "#0d0887"
             ],
             [
              0.1111111111111111,
              "#46039f"
             ],
             [
              0.2222222222222222,
              "#7201a8"
             ],
             [
              0.3333333333333333,
              "#9c179e"
             ],
             [
              0.4444444444444444,
              "#bd3786"
             ],
             [
              0.5555555555555556,
              "#d8576b"
             ],
             [
              0.6666666666666666,
              "#ed7953"
             ],
             [
              0.7777777777777778,
              "#fb9f3a"
             ],
             [
              0.8888888888888888,
              "#fdca26"
             ],
             [
              1,
              "#f0f921"
             ]
            ],
            "type": "heatmap"
           }
          ],
          "heatmapgl": [
           {
            "colorbar": {
             "outlinewidth": 0,
             "ticks": ""
            },
            "colorscale": [
             [
              0,
              "#0d0887"
             ],
             [
              0.1111111111111111,
              "#46039f"
             ],
             [
              0.2222222222222222,
              "#7201a8"
             ],
             [
              0.3333333333333333,
              "#9c179e"
             ],
             [
              0.4444444444444444,
              "#bd3786"
             ],
             [
              0.5555555555555556,
              "#d8576b"
             ],
             [
              0.6666666666666666,
              "#ed7953"
             ],
             [
              0.7777777777777778,
              "#fb9f3a"
             ],
             [
              0.8888888888888888,
              "#fdca26"
             ],
             [
              1,
              "#f0f921"
             ]
            ],
            "type": "heatmapgl"
           }
          ],
          "histogram": [
           {
            "marker": {
             "pattern": {
              "fillmode": "overlay",
              "size": 10,
              "solidity": 0.2
             }
            },
            "type": "histogram"
           }
          ],
          "histogram2d": [
           {
            "colorbar": {
             "outlinewidth": 0,
             "ticks": ""
            },
            "colorscale": [
             [
              0,
              "#0d0887"
             ],
             [
              0.1111111111111111,
              "#46039f"
             ],
             [
              0.2222222222222222,
              "#7201a8"
             ],
             [
              0.3333333333333333,
              "#9c179e"
             ],
             [
              0.4444444444444444,
              "#bd3786"
             ],
             [
              0.5555555555555556,
              "#d8576b"
             ],
             [
              0.6666666666666666,
              "#ed7953"
             ],
             [
              0.7777777777777778,
              "#fb9f3a"
             ],
             [
              0.8888888888888888,
              "#fdca26"
             ],
             [
              1,
              "#f0f921"
             ]
            ],
            "type": "histogram2d"
           }
          ],
          "histogram2dcontour": [
           {
            "colorbar": {
             "outlinewidth": 0,
             "ticks": ""
            },
            "colorscale": [
             [
              0,
              "#0d0887"
             ],
             [
              0.1111111111111111,
              "#46039f"
             ],
             [
              0.2222222222222222,
              "#7201a8"
             ],
             [
              0.3333333333333333,
              "#9c179e"
             ],
             [
              0.4444444444444444,
              "#bd3786"
             ],
             [
              0.5555555555555556,
              "#d8576b"
             ],
             [
              0.6666666666666666,
              "#ed7953"
             ],
             [
              0.7777777777777778,
              "#fb9f3a"
             ],
             [
              0.8888888888888888,
              "#fdca26"
             ],
             [
              1,
              "#f0f921"
             ]
            ],
            "type": "histogram2dcontour"
           }
          ],
          "mesh3d": [
           {
            "colorbar": {
             "outlinewidth": 0,
             "ticks": ""
            },
            "type": "mesh3d"
           }
          ],
          "parcoords": [
           {
            "line": {
             "colorbar": {
              "outlinewidth": 0,
              "ticks": ""
             }
            },
            "type": "parcoords"
           }
          ],
          "pie": [
           {
            "automargin": true,
            "type": "pie"
           }
          ],
          "scatter": [
           {
            "fillpattern": {
             "fillmode": "overlay",
             "size": 10,
             "solidity": 0.2
            },
            "type": "scatter"
           }
          ],
          "scatter3d": [
           {
            "line": {
             "colorbar": {
              "outlinewidth": 0,
              "ticks": ""
             }
            },
            "marker": {
             "colorbar": {
              "outlinewidth": 0,
              "ticks": ""
             }
            },
            "type": "scatter3d"
           }
          ],
          "scattercarpet": [
           {
            "marker": {
             "colorbar": {
              "outlinewidth": 0,
              "ticks": ""
             }
            },
            "type": "scattercarpet"
           }
          ],
          "scattergeo": [
           {
            "marker": {
             "colorbar": {
              "outlinewidth": 0,
              "ticks": ""
             }
            },
            "type": "scattergeo"
           }
          ],
          "scattergl": [
           {
            "marker": {
             "colorbar": {
              "outlinewidth": 0,
              "ticks": ""
             }
            },
            "type": "scattergl"
           }
          ],
          "scattermapbox": [
           {
            "marker": {
             "colorbar": {
              "outlinewidth": 0,
              "ticks": ""
             }
            },
            "type": "scattermapbox"
           }
          ],
          "scatterpolar": [
           {
            "marker": {
             "colorbar": {
              "outlinewidth": 0,
              "ticks": ""
             }
            },
            "type": "scatterpolar"
           }
          ],
          "scatterpolargl": [
           {
            "marker": {
             "colorbar": {
              "outlinewidth": 0,
              "ticks": ""
             }
            },
            "type": "scatterpolargl"
           }
          ],
          "scatterternary": [
           {
            "marker": {
             "colorbar": {
              "outlinewidth": 0,
              "ticks": ""
             }
            },
            "type": "scatterternary"
           }
          ],
          "surface": [
           {
            "colorbar": {
             "outlinewidth": 0,
             "ticks": ""
            },
            "colorscale": [
             [
              0,
              "#0d0887"
             ],
             [
              0.1111111111111111,
              "#46039f"
             ],
             [
              0.2222222222222222,
              "#7201a8"
             ],
             [
              0.3333333333333333,
              "#9c179e"
             ],
             [
              0.4444444444444444,
              "#bd3786"
             ],
             [
              0.5555555555555556,
              "#d8576b"
             ],
             [
              0.6666666666666666,
              "#ed7953"
             ],
             [
              0.7777777777777778,
              "#fb9f3a"
             ],
             [
              0.8888888888888888,
              "#fdca26"
             ],
             [
              1,
              "#f0f921"
             ]
            ],
            "type": "surface"
           }
          ],
          "table": [
           {
            "cells": {
             "fill": {
              "color": "#EBF0F8"
             },
             "line": {
              "color": "white"
             }
            },
            "header": {
             "fill": {
              "color": "#C8D4E3"
             },
             "line": {
              "color": "white"
             }
            },
            "type": "table"
           }
          ]
         },
         "layout": {
          "annotationdefaults": {
           "arrowcolor": "#2a3f5f",
           "arrowhead": 0,
           "arrowwidth": 1
          },
          "autotypenumbers": "strict",
          "coloraxis": {
           "colorbar": {
            "outlinewidth": 0,
            "ticks": ""
           }
          },
          "colorscale": {
           "diverging": [
            [
             0,
             "#8e0152"
            ],
            [
             0.1,
             "#c51b7d"
            ],
            [
             0.2,
             "#de77ae"
            ],
            [
             0.3,
             "#f1b6da"
            ],
            [
             0.4,
             "#fde0ef"
            ],
            [
             0.5,
             "#f7f7f7"
            ],
            [
             0.6,
             "#e6f5d0"
            ],
            [
             0.7,
             "#b8e186"
            ],
            [
             0.8,
             "#7fbc41"
            ],
            [
             0.9,
             "#4d9221"
            ],
            [
             1,
             "#276419"
            ]
           ],
           "sequential": [
            [
             0,
             "#0d0887"
            ],
            [
             0.1111111111111111,
             "#46039f"
            ],
            [
             0.2222222222222222,
             "#7201a8"
            ],
            [
             0.3333333333333333,
             "#9c179e"
            ],
            [
             0.4444444444444444,
             "#bd3786"
            ],
            [
             0.5555555555555556,
             "#d8576b"
            ],
            [
             0.6666666666666666,
             "#ed7953"
            ],
            [
             0.7777777777777778,
             "#fb9f3a"
            ],
            [
             0.8888888888888888,
             "#fdca26"
            ],
            [
             1,
             "#f0f921"
            ]
           ],
           "sequentialminus": [
            [
             0,
             "#0d0887"
            ],
            [
             0.1111111111111111,
             "#46039f"
            ],
            [
             0.2222222222222222,
             "#7201a8"
            ],
            [
             0.3333333333333333,
             "#9c179e"
            ],
            [
             0.4444444444444444,
             "#bd3786"
            ],
            [
             0.5555555555555556,
             "#d8576b"
            ],
            [
             0.6666666666666666,
             "#ed7953"
            ],
            [
             0.7777777777777778,
             "#fb9f3a"
            ],
            [
             0.8888888888888888,
             "#fdca26"
            ],
            [
             1,
             "#f0f921"
            ]
           ]
          },
          "colorway": [
           "#636efa",
           "#EF553B",
           "#00cc96",
           "#ab63fa",
           "#FFA15A",
           "#19d3f3",
           "#FF6692",
           "#B6E880",
           "#FF97FF",
           "#FECB52"
          ],
          "font": {
           "color": "#2a3f5f"
          },
          "geo": {
           "bgcolor": "white",
           "lakecolor": "white",
           "landcolor": "#E5ECF6",
           "showlakes": true,
           "showland": true,
           "subunitcolor": "white"
          },
          "hoverlabel": {
           "align": "left"
          },
          "hovermode": "closest",
          "mapbox": {
           "style": "light"
          },
          "paper_bgcolor": "white",
          "plot_bgcolor": "#E5ECF6",
          "polar": {
           "angularaxis": {
            "gridcolor": "white",
            "linecolor": "white",
            "ticks": ""
           },
           "bgcolor": "#E5ECF6",
           "radialaxis": {
            "gridcolor": "white",
            "linecolor": "white",
            "ticks": ""
           }
          },
          "scene": {
           "xaxis": {
            "backgroundcolor": "#E5ECF6",
            "gridcolor": "white",
            "gridwidth": 2,
            "linecolor": "white",
            "showbackground": true,
            "ticks": "",
            "zerolinecolor": "white"
           },
           "yaxis": {
            "backgroundcolor": "#E5ECF6",
            "gridcolor": "white",
            "gridwidth": 2,
            "linecolor": "white",
            "showbackground": true,
            "ticks": "",
            "zerolinecolor": "white"
           },
           "zaxis": {
            "backgroundcolor": "#E5ECF6",
            "gridcolor": "white",
            "gridwidth": 2,
            "linecolor": "white",
            "showbackground": true,
            "ticks": "",
            "zerolinecolor": "white"
           }
          },
          "shapedefaults": {
           "line": {
            "color": "#2a3f5f"
           }
          },
          "ternary": {
           "aaxis": {
            "gridcolor": "white",
            "linecolor": "white",
            "ticks": ""
           },
           "baxis": {
            "gridcolor": "white",
            "linecolor": "white",
            "ticks": ""
           },
           "bgcolor": "#E5ECF6",
           "caxis": {
            "gridcolor": "white",
            "linecolor": "white",
            "ticks": ""
           }
          },
          "title": {
           "x": 0.05
          },
          "xaxis": {
           "automargin": true,
           "gridcolor": "white",
           "linecolor": "white",
           "ticks": "",
           "title": {
            "standoff": 15
           },
           "zerolinecolor": "white",
           "zerolinewidth": 2
          },
          "yaxis": {
           "automargin": true,
           "gridcolor": "white",
           "linecolor": "white",
           "ticks": "",
           "title": {
            "standoff": 15
           },
           "zerolinecolor": "white",
           "zerolinewidth": 2
          }
         }
        }
       }
      },
      "text/html": [
       "<div>                            <div id=\"e0aa54c6-83f3-40ca-8f55-d46fe54d3047\" class=\"plotly-graph-div\" style=\"height:525px; width:100%;\"></div>            <script type=\"text/javascript\">                require([\"plotly\"], function(Plotly) {                    window.PLOTLYENV=window.PLOTLYENV || {};                                    if (document.getElementById(\"e0aa54c6-83f3-40ca-8f55-d46fe54d3047\")) {                    Plotly.newPlot(                        \"e0aa54c6-83f3-40ca-8f55-d46fe54d3047\",                        [{\"hovertemplate\":\"cgpa=%{x}\\u003cbr\\u003eiq=%{y}\\u003cbr\\u003eplacement=%{z}\\u003cextra\\u003e\\u003c\\u002fextra\\u003e\",\"legendgroup\":\"\",\"marker\":{\"color\":\"#636efa\",\"symbol\":\"circle\"},\"mode\":\"markers\",\"name\":\"\",\"scene\":\"scene\",\"showlegend\":false,\"x\":[6.8,5.9,5.3,7.4,5.8,7.1,5.7,5.0,6.1,5.1,6.0,6.9,5.4,6.4,6.1,5.1,5.2,3.3,4.0,5.2,6.6,7.1,4.9,4.7,4.7,5.0,7.0,6.0,5.2,7.0,7.6,3.9,7.0,6.0,4.8,6.8,5.7,8.1,6.5,4.6,4.9,5.4,7.6,6.8,7.5,6.0,5.3,5.2,6.6,5.4,3.5,4.8,7.0,8.3,6.4,7.8,6.1,6.5,8.0,4.8,6.9,7.3,6.0,6.3,7.0,8.1,6.9,5.0,4.0,8.5,6.3,6.1,7.3,4.9,6.7,4.8,4.9,7.3,6.1,6.5,4.9,5.4,6.5,7.5,5.7,5.8,5.1,5.7,4.4,4.9,7.3,7.5,5.2,6.8,4.7,4.3,4.4,6.7,6.3,6.2],\"y\":[123.0,106.0,121.0,132.0,142.0,48.0,143.0,63.0,156.0,66.0,45.0,138.0,139.0,116.0,103.0,176.0,224.0,183.0,100.0,132.0,120.0,151.0,120.0,87.0,121.0,91.0,199.0,124.0,90.0,112.0,128.0,109.0,139.0,149.0,163.0,90.0,140.0,149.0,160.0,146.0,134.0,114.0,89.0,141.0,61.0,66.0,114.0,161.0,138.0,135.0,233.0,141.0,175.0,168.0,141.0,114.0,65.0,130.0,79.0,112.0,139.0,137.0,102.0,128.0,64.0,166.0,96.0,118.0,75.0,120.0,127.0,132.0,116.0,61.0,154.0,169.0,155.0,50.0,81.0,90.0,196.0,107.0,37.0,130.0,169.0,166.0,128.0,132.0,149.0,151.0,86.0,158.0,110.0,112.0,52.0,200.0,42.0,182.0,103.0,113.0],\"z\":[1,0,0,1,0,1,0,0,0,0,1,1,0,1,0,0,0,0,0,0,1,1,0,0,0,0,1,1,0,1,1,0,1,0,0,1,0,1,1,0,0,0,1,1,1,1,0,0,1,0,0,0,1,1,1,1,0,1,1,0,1,1,0,1,1,1,1,0,0,1,1,1,1,0,1,0,0,1,0,1,0,0,1,1,0,1,0,1,0,0,1,1,0,1,0,0,0,1,1,1],\"type\":\"scatter3d\"}],                        {\"template\":{\"data\":{\"histogram2dcontour\":[{\"type\":\"histogram2dcontour\",\"colorbar\":{\"outlinewidth\":0,\"ticks\":\"\"},\"colorscale\":[[0.0,\"#0d0887\"],[0.1111111111111111,\"#46039f\"],[0.2222222222222222,\"#7201a8\"],[0.3333333333333333,\"#9c179e\"],[0.4444444444444444,\"#bd3786\"],[0.5555555555555556,\"#d8576b\"],[0.6666666666666666,\"#ed7953\"],[0.7777777777777778,\"#fb9f3a\"],[0.8888888888888888,\"#fdca26\"],[1.0,\"#f0f921\"]]}],\"choropleth\":[{\"type\":\"choropleth\",\"colorbar\":{\"outlinewidth\":0,\"ticks\":\"\"}}],\"histogram2d\":[{\"type\":\"histogram2d\",\"colorbar\":{\"outlinewidth\":0,\"ticks\":\"\"},\"colorscale\":[[0.0,\"#0d0887\"],[0.1111111111111111,\"#46039f\"],[0.2222222222222222,\"#7201a8\"],[0.3333333333333333,\"#9c179e\"],[0.4444444444444444,\"#bd3786\"],[0.5555555555555556,\"#d8576b\"],[0.6666666666666666,\"#ed7953\"],[0.7777777777777778,\"#fb9f3a\"],[0.8888888888888888,\"#fdca26\"],[1.0,\"#f0f921\"]]}],\"heatmap\":[{\"type\":\"heatmap\",\"colorbar\":{\"outlinewidth\":0,\"ticks\":\"\"},\"colorscale\":[[0.0,\"#0d0887\"],[0.1111111111111111,\"#46039f\"],[0.2222222222222222,\"#7201a8\"],[0.3333333333333333,\"#9c179e\"],[0.4444444444444444,\"#bd3786\"],[0.5555555555555556,\"#d8576b\"],[0.6666666666666666,\"#ed7953\"],[0.7777777777777778,\"#fb9f3a\"],[0.8888888888888888,\"#fdca26\"],[1.0,\"#f0f921\"]]}],\"heatmapgl\":[{\"type\":\"heatmapgl\",\"colorbar\":{\"outlinewidth\":0,\"ticks\":\"\"},\"colorscale\":[[0.0,\"#0d0887\"],[0.1111111111111111,\"#46039f\"],[0.2222222222222222,\"#7201a8\"],[0.3333333333333333,\"#9c179e\"],[0.4444444444444444,\"#bd3786\"],[0.5555555555555556,\"#d8576b\"],[0.6666666666666666,\"#ed7953\"],[0.7777777777777778,\"#fb9f3a\"],[0.8888888888888888,\"#fdca26\"],[1.0,\"#f0f921\"]]}],\"contourcarpet\":[{\"type\":\"contourcarpet\",\"colorbar\":{\"outlinewidth\":0,\"ticks\":\"\"}}],\"contour\":[{\"type\":\"contour\",\"colorbar\":{\"outlinewidth\":0,\"ticks\":\"\"},\"colorscale\":[[0.0,\"#0d0887\"],[0.1111111111111111,\"#46039f\"],[0.2222222222222222,\"#7201a8\"],[0.3333333333333333,\"#9c179e\"],[0.4444444444444444,\"#bd3786\"],[0.5555555555555556,\"#d8576b\"],[0.6666666666666666,\"#ed7953\"],[0.7777777777777778,\"#fb9f3a\"],[0.8888888888888888,\"#fdca26\"],[1.0,\"#f0f921\"]]}],\"surface\":[{\"type\":\"surface\",\"colorbar\":{\"outlinewidth\":0,\"ticks\":\"\"},\"colorscale\":[[0.0,\"#0d0887\"],[0.1111111111111111,\"#46039f\"],[0.2222222222222222,\"#7201a8\"],[0.3333333333333333,\"#9c179e\"],[0.4444444444444444,\"#bd3786\"],[0.5555555555555556,\"#d8576b\"],[0.6666666666666666,\"#ed7953\"],[0.7777777777777778,\"#fb9f3a\"],[0.8888888888888888,\"#fdca26\"],[1.0,\"#f0f921\"]]}],\"mesh3d\":[{\"type\":\"mesh3d\",\"colorbar\":{\"outlinewidth\":0,\"ticks\":\"\"}}],\"scatter\":[{\"fillpattern\":{\"fillmode\":\"overlay\",\"size\":10,\"solidity\":0.2},\"type\":\"scatter\"}],\"parcoords\":[{\"type\":\"parcoords\",\"line\":{\"colorbar\":{\"outlinewidth\":0,\"ticks\":\"\"}}}],\"scatterpolargl\":[{\"type\":\"scatterpolargl\",\"marker\":{\"colorbar\":{\"outlinewidth\":0,\"ticks\":\"\"}}}],\"bar\":[{\"error_x\":{\"color\":\"#2a3f5f\"},\"error_y\":{\"color\":\"#2a3f5f\"},\"marker\":{\"line\":{\"color\":\"#E5ECF6\",\"width\":0.5},\"pattern\":{\"fillmode\":\"overlay\",\"size\":10,\"solidity\":0.2}},\"type\":\"bar\"}],\"scattergeo\":[{\"type\":\"scattergeo\",\"marker\":{\"colorbar\":{\"outlinewidth\":0,\"ticks\":\"\"}}}],\"scatterpolar\":[{\"type\":\"scatterpolar\",\"marker\":{\"colorbar\":{\"outlinewidth\":0,\"ticks\":\"\"}}}],\"histogram\":[{\"marker\":{\"pattern\":{\"fillmode\":\"overlay\",\"size\":10,\"solidity\":0.2}},\"type\":\"histogram\"}],\"scattergl\":[{\"type\":\"scattergl\",\"marker\":{\"colorbar\":{\"outlinewidth\":0,\"ticks\":\"\"}}}],\"scatter3d\":[{\"type\":\"scatter3d\",\"line\":{\"colorbar\":{\"outlinewidth\":0,\"ticks\":\"\"}},\"marker\":{\"colorbar\":{\"outlinewidth\":0,\"ticks\":\"\"}}}],\"scattermapbox\":[{\"type\":\"scattermapbox\",\"marker\":{\"colorbar\":{\"outlinewidth\":0,\"ticks\":\"\"}}}],\"scatterternary\":[{\"type\":\"scatterternary\",\"marker\":{\"colorbar\":{\"outlinewidth\":0,\"ticks\":\"\"}}}],\"scattercarpet\":[{\"type\":\"scattercarpet\",\"marker\":{\"colorbar\":{\"outlinewidth\":0,\"ticks\":\"\"}}}],\"carpet\":[{\"aaxis\":{\"endlinecolor\":\"#2a3f5f\",\"gridcolor\":\"white\",\"linecolor\":\"white\",\"minorgridcolor\":\"white\",\"startlinecolor\":\"#2a3f5f\"},\"baxis\":{\"endlinecolor\":\"#2a3f5f\",\"gridcolor\":\"white\",\"linecolor\":\"white\",\"minorgridcolor\":\"white\",\"startlinecolor\":\"#2a3f5f\"},\"type\":\"carpet\"}],\"table\":[{\"cells\":{\"fill\":{\"color\":\"#EBF0F8\"},\"line\":{\"color\":\"white\"}},\"header\":{\"fill\":{\"color\":\"#C8D4E3\"},\"line\":{\"color\":\"white\"}},\"type\":\"table\"}],\"barpolar\":[{\"marker\":{\"line\":{\"color\":\"#E5ECF6\",\"width\":0.5},\"pattern\":{\"fillmode\":\"overlay\",\"size\":10,\"solidity\":0.2}},\"type\":\"barpolar\"}],\"pie\":[{\"automargin\":true,\"type\":\"pie\"}]},\"layout\":{\"autotypenumbers\":\"strict\",\"colorway\":[\"#636efa\",\"#EF553B\",\"#00cc96\",\"#ab63fa\",\"#FFA15A\",\"#19d3f3\",\"#FF6692\",\"#B6E880\",\"#FF97FF\",\"#FECB52\"],\"font\":{\"color\":\"#2a3f5f\"},\"hovermode\":\"closest\",\"hoverlabel\":{\"align\":\"left\"},\"paper_bgcolor\":\"white\",\"plot_bgcolor\":\"#E5ECF6\",\"polar\":{\"bgcolor\":\"#E5ECF6\",\"angularaxis\":{\"gridcolor\":\"white\",\"linecolor\":\"white\",\"ticks\":\"\"},\"radialaxis\":{\"gridcolor\":\"white\",\"linecolor\":\"white\",\"ticks\":\"\"}},\"ternary\":{\"bgcolor\":\"#E5ECF6\",\"aaxis\":{\"gridcolor\":\"white\",\"linecolor\":\"white\",\"ticks\":\"\"},\"baxis\":{\"gridcolor\":\"white\",\"linecolor\":\"white\",\"ticks\":\"\"},\"caxis\":{\"gridcolor\":\"white\",\"linecolor\":\"white\",\"ticks\":\"\"}},\"coloraxis\":{\"colorbar\":{\"outlinewidth\":0,\"ticks\":\"\"}},\"colorscale\":{\"sequential\":[[0.0,\"#0d0887\"],[0.1111111111111111,\"#46039f\"],[0.2222222222222222,\"#7201a8\"],[0.3333333333333333,\"#9c179e\"],[0.4444444444444444,\"#bd3786\"],[0.5555555555555556,\"#d8576b\"],[0.6666666666666666,\"#ed7953\"],[0.7777777777777778,\"#fb9f3a\"],[0.8888888888888888,\"#fdca26\"],[1.0,\"#f0f921\"]],\"sequentialminus\":[[0.0,\"#0d0887\"],[0.1111111111111111,\"#46039f\"],[0.2222222222222222,\"#7201a8\"],[0.3333333333333333,\"#9c179e\"],[0.4444444444444444,\"#bd3786\"],[0.5555555555555556,\"#d8576b\"],[0.6666666666666666,\"#ed7953\"],[0.7777777777777778,\"#fb9f3a\"],[0.8888888888888888,\"#fdca26\"],[1.0,\"#f0f921\"]],\"diverging\":[[0,\"#8e0152\"],[0.1,\"#c51b7d\"],[0.2,\"#de77ae\"],[0.3,\"#f1b6da\"],[0.4,\"#fde0ef\"],[0.5,\"#f7f7f7\"],[0.6,\"#e6f5d0\"],[0.7,\"#b8e186\"],[0.8,\"#7fbc41\"],[0.9,\"#4d9221\"],[1,\"#276419\"]]},\"xaxis\":{\"gridcolor\":\"white\",\"linecolor\":\"white\",\"ticks\":\"\",\"title\":{\"standoff\":15},\"zerolinecolor\":\"white\",\"automargin\":true,\"zerolinewidth\":2},\"yaxis\":{\"gridcolor\":\"white\",\"linecolor\":\"white\",\"ticks\":\"\",\"title\":{\"standoff\":15},\"zerolinecolor\":\"white\",\"automargin\":true,\"zerolinewidth\":2},\"scene\":{\"xaxis\":{\"backgroundcolor\":\"#E5ECF6\",\"gridcolor\":\"white\",\"linecolor\":\"white\",\"showbackground\":true,\"ticks\":\"\",\"zerolinecolor\":\"white\",\"gridwidth\":2},\"yaxis\":{\"backgroundcolor\":\"#E5ECF6\",\"gridcolor\":\"white\",\"linecolor\":\"white\",\"showbackground\":true,\"ticks\":\"\",\"zerolinecolor\":\"white\",\"gridwidth\":2},\"zaxis\":{\"backgroundcolor\":\"#E5ECF6\",\"gridcolor\":\"white\",\"linecolor\":\"white\",\"showbackground\":true,\"ticks\":\"\",\"zerolinecolor\":\"white\",\"gridwidth\":2}},\"shapedefaults\":{\"line\":{\"color\":\"#2a3f5f\"}},\"annotationdefaults\":{\"arrowcolor\":\"#2a3f5f\",\"arrowhead\":0,\"arrowwidth\":1},\"geo\":{\"bgcolor\":\"white\",\"landcolor\":\"#E5ECF6\",\"subunitcolor\":\"white\",\"showland\":true,\"showlakes\":true,\"lakecolor\":\"white\"},\"title\":{\"x\":0.05},\"mapbox\":{\"style\":\"light\"}}},\"scene\":{\"domain\":{\"x\":[0.0,1.0],\"y\":[0.0,1.0]},\"xaxis\":{\"title\":{\"text\":\"cgpa\"}},\"yaxis\":{\"title\":{\"text\":\"iq\"}},\"zaxis\":{\"title\":{\"text\":\"placement\"}}},\"legend\":{\"tracegroupgap\":0},\"margin\":{\"t\":60}},                        {\"responsive\": true}                    ).then(function(){\n",
       "                            \n",
       "var gd = document.getElementById('e0aa54c6-83f3-40ca-8f55-d46fe54d3047');\n",
       "var x = new MutationObserver(function (mutations, observer) {{\n",
       "        var display = window.getComputedStyle(gd).display;\n",
       "        if (!display || display === 'none') {{\n",
       "            console.log([gd, 'removed!']);\n",
       "            Plotly.purge(gd);\n",
       "            observer.disconnect();\n",
       "        }}\n",
       "}});\n",
       "\n",
       "// Listen for the removal of the full notebook cells\n",
       "var notebookContainer = gd.closest('#notebook-container');\n",
       "if (notebookContainer) {{\n",
       "    x.observe(notebookContainer, {childList: true});\n",
       "}}\n",
       "\n",
       "// Listen for the clearing of the current output cell\n",
       "var outputEl = gd.closest('.output');\n",
       "if (outputEl) {{\n",
       "    x.observe(outputEl, {childList: true});\n",
       "}}\n",
       "\n",
       "                        })                };                });            </script>        </div>"
      ]
     },
     "metadata": {},
     "output_type": "display_data"
    }
   ],
   "source": [
    "px.scatter_3d(data_frame=df,x='cgpa',y='iq',z='placement')"
   ]
  },
  {
   "cell_type": "code",
   "execution_count": 3,
   "id": "37395970",
   "metadata": {},
   "outputs": [
    {
     "name": "stdout",
     "output_type": "stream",
     "text": [
      "<class 'pandas.core.frame.DataFrame'>\n",
      "RangeIndex: 100 entries, 0 to 99\n",
      "Data columns (total 2 columns):\n",
      " #   Column  Non-Null Count  Dtype  \n",
      "---  ------  --------------  -----  \n",
      " 0   cgpa    100 non-null    float64\n",
      " 1   iq      100 non-null    float64\n",
      "dtypes: float64(2)\n",
      "memory usage: 1.7 KB\n"
     ]
    }
   ],
   "source": [
    "df.info()"
   ]
  },
  {
   "cell_type": "code",
   "execution_count": 4,
   "id": "f809cd56",
   "metadata": {},
   "outputs": [
    {
     "data": {
      "text/html": [
       "<div>\n",
       "<style scoped>\n",
       "    .dataframe tbody tr th:only-of-type {\n",
       "        vertical-align: middle;\n",
       "    }\n",
       "\n",
       "    .dataframe tbody tr th {\n",
       "        vertical-align: top;\n",
       "    }\n",
       "\n",
       "    .dataframe thead th {\n",
       "        text-align: right;\n",
       "    }\n",
       "</style>\n",
       "<table border=\"1\" class=\"dataframe\">\n",
       "  <thead>\n",
       "    <tr style=\"text-align: right;\">\n",
       "      <th></th>\n",
       "      <th>cgpa</th>\n",
       "      <th>iq</th>\n",
       "    </tr>\n",
       "  </thead>\n",
       "  <tbody>\n",
       "    <tr>\n",
       "      <th>count</th>\n",
       "      <td>100.000000</td>\n",
       "      <td>100.000000</td>\n",
       "    </tr>\n",
       "    <tr>\n",
       "      <th>mean</th>\n",
       "      <td>5.991000</td>\n",
       "      <td>123.580000</td>\n",
       "    </tr>\n",
       "    <tr>\n",
       "      <th>std</th>\n",
       "      <td>1.143634</td>\n",
       "      <td>39.944198</td>\n",
       "    </tr>\n",
       "    <tr>\n",
       "      <th>min</th>\n",
       "      <td>3.300000</td>\n",
       "      <td>37.000000</td>\n",
       "    </tr>\n",
       "    <tr>\n",
       "      <th>25%</th>\n",
       "      <td>5.075000</td>\n",
       "      <td>101.500000</td>\n",
       "    </tr>\n",
       "    <tr>\n",
       "      <th>50%</th>\n",
       "      <td>6.000000</td>\n",
       "      <td>127.500000</td>\n",
       "    </tr>\n",
       "    <tr>\n",
       "      <th>75%</th>\n",
       "      <td>6.900000</td>\n",
       "      <td>149.000000</td>\n",
       "    </tr>\n",
       "    <tr>\n",
       "      <th>max</th>\n",
       "      <td>8.500000</td>\n",
       "      <td>233.000000</td>\n",
       "    </tr>\n",
       "  </tbody>\n",
       "</table>\n",
       "</div>"
      ],
      "text/plain": [
       "             cgpa          iq\n",
       "count  100.000000  100.000000\n",
       "mean     5.991000  123.580000\n",
       "std      1.143634   39.944198\n",
       "min      3.300000   37.000000\n",
       "25%      5.075000  101.500000\n",
       "50%      6.000000  127.500000\n",
       "75%      6.900000  149.000000\n",
       "max      8.500000  233.000000"
      ]
     },
     "execution_count": 4,
     "metadata": {},
     "output_type": "execute_result"
    }
   ],
   "source": [
    "df.describe()"
   ]
  },
  {
   "cell_type": "code",
   "execution_count": 5,
   "id": "02d81e75",
   "metadata": {},
   "outputs": [
    {
     "data": {
      "text/html": [
       "<div>\n",
       "<style scoped>\n",
       "    .dataframe tbody tr th:only-of-type {\n",
       "        vertical-align: middle;\n",
       "    }\n",
       "\n",
       "    .dataframe tbody tr th {\n",
       "        vertical-align: top;\n",
       "    }\n",
       "\n",
       "    .dataframe thead th {\n",
       "        text-align: right;\n",
       "    }\n",
       "</style>\n",
       "<table border=\"1\" class=\"dataframe\">\n",
       "  <thead>\n",
       "    <tr style=\"text-align: right;\">\n",
       "      <th></th>\n",
       "      <th>cgpa</th>\n",
       "      <th>iq</th>\n",
       "    </tr>\n",
       "  </thead>\n",
       "  <tbody>\n",
       "    <tr>\n",
       "      <th>cgpa</th>\n",
       "      <td>1.000000</td>\n",
       "      <td>-0.098791</td>\n",
       "    </tr>\n",
       "    <tr>\n",
       "      <th>iq</th>\n",
       "      <td>-0.098791</td>\n",
       "      <td>1.000000</td>\n",
       "    </tr>\n",
       "  </tbody>\n",
       "</table>\n",
       "</div>"
      ],
      "text/plain": [
       "          cgpa        iq\n",
       "cgpa  1.000000 -0.098791\n",
       "iq   -0.098791  1.000000"
      ]
     },
     "execution_count": 5,
     "metadata": {},
     "output_type": "execute_result"
    }
   ],
   "source": [
    "df.corr()"
   ]
  },
  {
   "cell_type": "code",
   "execution_count": 3,
   "id": "8d20ebbf",
   "metadata": {},
   "outputs": [
    {
     "data": {
      "text/plain": [
       "array([6.8, 5.9, 5.3, 7.4, 5.8, 7.1, 5.7, 5. , 6.1, 5.1, 6. , 6.9, 5.4,\n",
       "       6.4, 6.1, 5.1, 5.2, 3.3, 4. , 5.2, 6.6, 7.1, 4.9, 4.7, 4.7, 5. ,\n",
       "       7. , 6. , 5.2, 7. , 7.6, 3.9, 7. , 6. , 4.8, 6.8, 5.7, 8.1, 6.5,\n",
       "       4.6, 4.9, 5.4, 7.6, 6.8, 7.5, 6. , 5.3, 5.2, 6.6, 5.4, 3.5, 4.8,\n",
       "       7. , 8.3, 6.4, 7.8, 6.1, 6.5, 8. , 4.8, 6.9, 7.3, 6. , 6.3, 7. ,\n",
       "       8.1, 6.9, 5. , 4. , 8.5, 6.3, 6.1, 7.3, 4.9, 6.7, 4.8, 4.9, 7.3,\n",
       "       6.1, 6.5, 4.9, 5.4, 6.5, 7.5, 5.7, 5.8, 5.1, 5.7, 4.4, 4.9, 7.3,\n",
       "       7.5, 5.2, 6.8, 4.7, 4.3, 4.4, 6.7, 6.3, 6.2])"
      ]
     },
     "execution_count": 3,
     "metadata": {},
     "output_type": "execute_result"
    }
   ],
   "source": [
    "input=df.iloc[:,0].values\n",
    "input"
   ]
  },
  {
   "cell_type": "code",
   "execution_count": 4,
   "id": "5f99ddc8",
   "metadata": {},
   "outputs": [
    {
     "data": {
      "text/plain": [
       "array([123., 106., 121., 132., 142.,  48., 143.,  63., 156.,  66.,  45.,\n",
       "       138., 139., 116., 103., 176., 224., 183., 100., 132., 120., 151.,\n",
       "       120.,  87., 121.,  91., 199., 124.,  90., 112., 128., 109., 139.,\n",
       "       149., 163.,  90., 140., 149., 160., 146., 134., 114.,  89., 141.,\n",
       "        61.,  66., 114., 161., 138., 135., 233., 141., 175., 168., 141.,\n",
       "       114.,  65., 130.,  79., 112., 139., 137., 102., 128.,  64., 166.,\n",
       "        96., 118.,  75., 120., 127., 132., 116.,  61., 154., 169., 155.,\n",
       "        50.,  81.,  90., 196., 107.,  37., 130., 169., 166., 128., 132.,\n",
       "       149., 151.,  86., 158., 110., 112.,  52., 200.,  42., 182., 103.,\n",
       "       113.])"
      ]
     },
     "execution_count": 4,
     "metadata": {},
     "output_type": "execute_result"
    }
   ],
   "source": [
    "label=df.iloc[:,1].values\n",
    "label"
   ]
  },
  {
   "cell_type": "code",
   "execution_count": 5,
   "id": "48f3a6f0",
   "metadata": {},
   "outputs": [],
   "source": [
    "from sklearn.model_selection import train_test_split"
   ]
  },
  {
   "cell_type": "code",
   "execution_count": 6,
   "id": "eacdc164",
   "metadata": {},
   "outputs": [],
   "source": [
    "x_train,x_test,y_train,y_test=train_test_split(input,label,test_size=0.2,random_state=2)"
   ]
  },
  {
   "cell_type": "code",
   "execution_count": 7,
   "id": "04d89805",
   "metadata": {},
   "outputs": [],
   "source": [
    "x=x_train.reshape(-1,1)\n",
    "y=y_train.reshape(-1,1)"
   ]
  },
  {
   "cell_type": "code",
   "execution_count": 8,
   "id": "3619e809",
   "metadata": {},
   "outputs": [],
   "source": [
    "from sklearn.linear_model import LinearRegression"
   ]
  },
  {
   "cell_type": "code",
   "execution_count": 9,
   "id": "25c5a7df",
   "metadata": {},
   "outputs": [],
   "source": [
    "obj=LinearRegression()"
   ]
  },
  {
   "cell_type": "code",
   "execution_count": 10,
   "id": "23590dd0",
   "metadata": {},
   "outputs": [
    {
     "data": {
      "text/html": [
       "<style>#sk-container-id-1 {color: black;background-color: white;}#sk-container-id-1 pre{padding: 0;}#sk-container-id-1 div.sk-toggleable {background-color: white;}#sk-container-id-1 label.sk-toggleable__label {cursor: pointer;display: block;width: 100%;margin-bottom: 0;padding: 0.3em;box-sizing: border-box;text-align: center;}#sk-container-id-1 label.sk-toggleable__label-arrow:before {content: \"▸\";float: left;margin-right: 0.25em;color: #696969;}#sk-container-id-1 label.sk-toggleable__label-arrow:hover:before {color: black;}#sk-container-id-1 div.sk-estimator:hover label.sk-toggleable__label-arrow:before {color: black;}#sk-container-id-1 div.sk-toggleable__content {max-height: 0;max-width: 0;overflow: hidden;text-align: left;background-color: #f0f8ff;}#sk-container-id-1 div.sk-toggleable__content pre {margin: 0.2em;color: black;border-radius: 0.25em;background-color: #f0f8ff;}#sk-container-id-1 input.sk-toggleable__control:checked~div.sk-toggleable__content {max-height: 200px;max-width: 100%;overflow: auto;}#sk-container-id-1 input.sk-toggleable__control:checked~label.sk-toggleable__label-arrow:before {content: \"▾\";}#sk-container-id-1 div.sk-estimator input.sk-toggleable__control:checked~label.sk-toggleable__label {background-color: #d4ebff;}#sk-container-id-1 div.sk-label input.sk-toggleable__control:checked~label.sk-toggleable__label {background-color: #d4ebff;}#sk-container-id-1 input.sk-hidden--visually {border: 0;clip: rect(1px 1px 1px 1px);clip: rect(1px, 1px, 1px, 1px);height: 1px;margin: -1px;overflow: hidden;padding: 0;position: absolute;width: 1px;}#sk-container-id-1 div.sk-estimator {font-family: monospace;background-color: #f0f8ff;border: 1px dotted black;border-radius: 0.25em;box-sizing: border-box;margin-bottom: 0.5em;}#sk-container-id-1 div.sk-estimator:hover {background-color: #d4ebff;}#sk-container-id-1 div.sk-parallel-item::after {content: \"\";width: 100%;border-bottom: 1px solid gray;flex-grow: 1;}#sk-container-id-1 div.sk-label:hover label.sk-toggleable__label {background-color: #d4ebff;}#sk-container-id-1 div.sk-serial::before {content: \"\";position: absolute;border-left: 1px solid gray;box-sizing: border-box;top: 0;bottom: 0;left: 50%;z-index: 0;}#sk-container-id-1 div.sk-serial {display: flex;flex-direction: column;align-items: center;background-color: white;padding-right: 0.2em;padding-left: 0.2em;position: relative;}#sk-container-id-1 div.sk-item {position: relative;z-index: 1;}#sk-container-id-1 div.sk-parallel {display: flex;align-items: stretch;justify-content: center;background-color: white;position: relative;}#sk-container-id-1 div.sk-item::before, #sk-container-id-1 div.sk-parallel-item::before {content: \"\";position: absolute;border-left: 1px solid gray;box-sizing: border-box;top: 0;bottom: 0;left: 50%;z-index: -1;}#sk-container-id-1 div.sk-parallel-item {display: flex;flex-direction: column;z-index: 1;position: relative;background-color: white;}#sk-container-id-1 div.sk-parallel-item:first-child::after {align-self: flex-end;width: 50%;}#sk-container-id-1 div.sk-parallel-item:last-child::after {align-self: flex-start;width: 50%;}#sk-container-id-1 div.sk-parallel-item:only-child::after {width: 0;}#sk-container-id-1 div.sk-dashed-wrapped {border: 1px dashed gray;margin: 0 0.4em 0.5em 0.4em;box-sizing: border-box;padding-bottom: 0.4em;background-color: white;}#sk-container-id-1 div.sk-label label {font-family: monospace;font-weight: bold;display: inline-block;line-height: 1.2em;}#sk-container-id-1 div.sk-label-container {text-align: center;}#sk-container-id-1 div.sk-container {/* jupyter's `normalize.less` sets `[hidden] { display: none; }` but bootstrap.min.css set `[hidden] { display: none !important; }` so we also need the `!important` here to be able to override the default hidden behavior on the sphinx rendered scikit-learn.org. See: https://github.com/scikit-learn/scikit-learn/issues/21755 */display: inline-block !important;position: relative;}#sk-container-id-1 div.sk-text-repr-fallback {display: none;}</style><div id=\"sk-container-id-1\" class=\"sk-top-container\"><div class=\"sk-text-repr-fallback\"><pre>LinearRegression()</pre><b>In a Jupyter environment, please rerun this cell to show the HTML representation or trust the notebook. <br />On GitHub, the HTML representation is unable to render, please try loading this page with nbviewer.org.</b></div><div class=\"sk-container\" hidden><div class=\"sk-item\"><div class=\"sk-estimator sk-toggleable\"><input class=\"sk-toggleable__control sk-hidden--visually\" id=\"sk-estimator-id-1\" type=\"checkbox\" checked><label for=\"sk-estimator-id-1\" class=\"sk-toggleable__label sk-toggleable__label-arrow\">LinearRegression</label><div class=\"sk-toggleable__content\"><pre>LinearRegression()</pre></div></div></div></div></div>"
      ],
      "text/plain": [
       "LinearRegression()"
      ]
     },
     "execution_count": 10,
     "metadata": {},
     "output_type": "execute_result"
    }
   ],
   "source": [
    "obj.fit(x,y)"
   ]
  },
  {
   "cell_type": "code",
   "execution_count": 11,
   "id": "bc649693",
   "metadata": {},
   "outputs": [
    {
     "data": {
      "text/plain": [
       "array([[-4.11305895]])"
      ]
     },
     "execution_count": 11,
     "metadata": {},
     "output_type": "execute_result"
    }
   ],
   "source": [
    "obj.coef_"
   ]
  },
  {
   "cell_type": "code",
   "execution_count": 12,
   "id": "11970d83",
   "metadata": {},
   "outputs": [
    {
     "data": {
      "text/plain": [
       "array([148.54255944])"
      ]
     },
     "execution_count": 12,
     "metadata": {},
     "output_type": "execute_result"
    }
   ],
   "source": [
    "obj.intercept_"
   ]
  },
  {
   "cell_type": "code",
   "execution_count": 13,
   "id": "07740c85",
   "metadata": {},
   "outputs": [
    {
     "data": {
      "text/plain": [
       "array([7.5, 7.6, 6.1, 4.7, 5.2, 4.7, 5.3, 6. , 5.2, 6.4, 6.2, 5.2, 4.9,\n",
       "       6.1, 6.8, 7.1, 7.4, 7. , 7.3, 6.5])"
      ]
     },
     "execution_count": 13,
     "metadata": {},
     "output_type": "execute_result"
    }
   ],
   "source": [
    "x_test"
   ]
  },
  {
   "cell_type": "code",
   "execution_count": 23,
   "id": "54ef0cf1",
   "metadata": {},
   "outputs": [
    {
     "name": "stdout",
     "output_type": "stream",
     "text": [
      "[130. 128.  65. 121. 224.  87. 121. 124.  90. 116. 113. 110. 155. 103.\n",
      " 123. 151. 132. 112. 137.  90.]\n"
     ]
    },
    {
     "data": {
      "text/plain": [
       "array([[117.6946173 ],\n",
       "       [117.28331141],\n",
       "       [123.45289983],\n",
       "       [129.21118237],\n",
       "       [127.15465289],\n",
       "       [129.21118237],\n",
       "       [126.74334699],\n",
       "       [123.86420573],\n",
       "       [127.15465289],\n",
       "       [122.21898215],\n",
       "       [123.04159394],\n",
       "       [127.15465289],\n",
       "       [128.38857058],\n",
       "       [123.45289983],\n",
       "       [120.57375857],\n",
       "       [119.33984088],\n",
       "       [118.1059232 ],\n",
       "       [119.75114678],\n",
       "       [118.51722909],\n",
       "       [121.80767625]])"
      ]
     },
     "execution_count": 23,
     "metadata": {},
     "output_type": "execute_result"
    }
   ],
   "source": [
    "print(y_test)\n",
    "y_pred=obj.predict(x_test.reshape(-1,1))\n",
    "y_pred"
   ]
  },
  {
   "cell_type": "code",
   "execution_count": 15,
   "id": "9339fc59",
   "metadata": {},
   "outputs": [],
   "source": [
    "import matplotlib.pyplot as plt"
   ]
  },
  {
   "cell_type": "code",
   "execution_count": 16,
   "id": "d6209097",
   "metadata": {},
   "outputs": [
    {
     "data": {
      "text/plain": [
       "<matplotlib.collections.PathCollection at 0x2742bf01720>"
      ]
     },
     "execution_count": 16,
     "metadata": {},
     "output_type": "execute_result"
    },
    {
     "data": {
      "image/png": "[encoded data removed]",
      "text/plain": [
       "<Figure size 432x288 with 1 Axes>"
      ]
     },
     "metadata": {
      "needs_background": "light"
     },
     "output_type": "display_data"
    }
   ],
   "source": [
    "#this data is no linear so not used linear regression\n",
    "plt.scatter(x,y)"
   ]
  },
  {
   "cell_type": "code",
   "execution_count": 22,
   "id": "c6e2a58d",
   "metadata": {},
   "outputs": [],
   "source": [
    "from sklearn.metrics import mean_squared_error,r2_score"
   ]
  },
  {
   "cell_type": "markdown",
   "id": "a3529ddc",
   "metadata": {},
   "source": [
    "### This is What happened when you doesn't understand the data"
   ]
  },
  {
   "cell_type": "code",
   "execution_count": 24,
   "id": "f113df7f",
   "metadata": {},
   "outputs": [
    {
     "data": {
      "text/plain": [
       "1024.9856280986792"
      ]
     },
     "execution_count": 24,
     "metadata": {},
     "output_type": "execute_result"
    }
   ],
   "source": [
    "mean_squared_error(y_test,y_pred)"
   ]
  },
  {
   "cell_type": "code",
   "execution_count": 25,
   "id": "c784cda1",
   "metadata": {},
   "outputs": [
    {
     "data": {
      "text/plain": [
       "-0.024637251433191842"
      ]
     },
     "execution_count": 25,
     "metadata": {},
     "output_type": "execute_result"
    }
   ],
   "source": [
    "r2_score(y_test,y_pred)"
   ]
  },
  {
   "cell_type": "markdown",
   "id": "58c6c8fc",
   "metadata": {},
   "source": [
    "### Building Own Model"
   ]
  },
  {
   "cell_type": "code",
   "execution_count": 81,
   "id": "28f03820",
   "metadata": {},
   "outputs": [],
   "source": [
    "class mero:\n",
    "    def model(self,x_train,y_train):\n",
    "        num=0\n",
    "        dem=0\n",
    "        for i in range(x_train.shape[0]):\n",
    "            num=num+((x_train[i]-x_train.mean())*(y_train[i]-y_train.mean()))\n",
    "            dem=dem+(x_train[i]-x_train.mean())**2\n",
    "            self.m = num/dem\n",
    "        self.b=(y_train.mean()-(self.m*x_train.mean()))\n",
    "        print(self.m,self.b)\n",
    "    def predict(self,x_test):\n",
    "        return self.m*x_train+self.b"
   ]
  },
  {
   "cell_type": "code",
   "execution_count": 82,
   "id": "ffe79e73",
   "metadata": {},
   "outputs": [],
   "source": [
    "obj1=mero()"
   ]
  },
  {
   "cell_type": "markdown",
   "id": "53700a96",
   "metadata": {},
   "source": [
    "### which is same m,b value given by sklearn Linear Regression"
   ]
  },
  {
   "cell_type": "code",
   "execution_count": 83,
   "id": "b731e6f1",
   "metadata": {},
   "outputs": [
    {
     "name": "stdout",
     "output_type": "stream",
     "text": [
      "[-4.11305895] [148.54255944]\n"
     ]
    }
   ],
   "source": [
    "obj1.model(x,y)"
   ]
  },
  {
   "cell_type": "code",
   "execution_count": 84,
   "id": "a19164df",
   "metadata": {},
   "outputs": [
    {
     "data": {
      "text/plain": [
       "7.5"
      ]
     },
     "execution_count": 84,
     "metadata": {},
     "output_type": "execute_result"
    }
   ],
   "source": [
    "x_test[0]"
   ]
  },
  {
   "cell_type": "code",
   "execution_count": 85,
   "id": "b397444f",
   "metadata": {},
   "outputs": [
    {
     "data": {
      "text/plain": [
       "array([120.57375857, 120.16245267, 125.09812341, 117.6946173 ,\n",
       "       128.38857058, 119.33984088, 127.97726468, 118.51722909,\n",
       "       120.98506446, 123.86420573, 115.22678193, 124.27551162,\n",
       "       132.09032363, 121.39637036, 125.09812341, 123.45289983,\n",
       "       125.09812341, 128.38857058, 117.6946173 , 123.86420573,\n",
       "       126.3320411 , 114.40417014, 125.09812341, 122.21898215,\n",
       "       130.85640595, 119.75114678, 127.15465289, 119.75114678,\n",
       "       120.16245267, 116.46069962, 127.56595879, 130.44510005,\n",
       "       134.9694649 , 128.79987647, 121.80767625, 126.3320411 ,\n",
       "       119.75114678, 123.86420573, 120.98506446, 123.45289983,\n",
       "       123.45289983, 129.21118237, 118.51722909, 122.63028804,\n",
       "       127.56595879, 128.38857058, 134.14685311, 119.75114678,\n",
       "       120.16245267, 130.44510005, 122.63028804, 126.74334699,\n",
       "       132.09032363, 113.58155835, 126.3320411 , 115.63808783,\n",
       "       123.86420573, 121.80767625, 128.79987647, 117.28331141,\n",
       "       124.68681752, 127.97726468, 129.62248826, 115.22678193,\n",
       "       121.39637036, 132.50162953, 122.63028804, 127.15465289,\n",
       "       124.68681752, 120.57375857, 126.3320411 , 128.79987647,\n",
       "       127.97726468, 128.79987647, 121.80767625, 120.57375857,\n",
       "       128.38857058, 118.51722909, 127.56595879, 128.38857058])"
      ]
     },
     "execution_count": 85,
     "metadata": {},
     "output_type": "execute_result"
    }
   ],
   "source": [
    "obj1.predict(x_test)"
   ]
  },
  {
   "cell_type": "markdown",
   "id": "e42e21ca",
   "metadata": {},
   "source": [
    "### Multiple Dimension Linear Regression"
   ]
  },
  {
   "cell_type": "code",
   "execution_count": 1,
   "id": "5aabafc9",
   "metadata": {},
   "outputs": [],
   "source": [
    "import pandas as pd\n",
    "import numpy as np"
   ]
  },
  {
   "cell_type": "code",
   "execution_count": 2,
   "id": "899ba671",
   "metadata": {},
   "outputs": [],
   "source": [
    "from sklearn.datasets import load_diabetes"
   ]
  },
  {
   "cell_type": "code",
   "execution_count": 10,
   "id": "ab603874",
   "metadata": {},
   "outputs": [],
   "source": [
    "x,y=load_diabetes(return_X_y=True)"
   ]
  },
  {
   "cell_type": "code",
   "execution_count": 11,
   "id": "85e2524c",
   "metadata": {},
   "outputs": [
    {
     "data": {
      "text/plain": [
       "((442, 10), (442,))"
      ]
     },
     "execution_count": 11,
     "metadata": {},
     "output_type": "execute_result"
    }
   ],
   "source": [
    "x.shape,y.shape"
   ]
  },
  {
   "cell_type": "code",
   "execution_count": 14,
   "id": "3d2dc52b",
   "metadata": {},
   "outputs": [],
   "source": [
    "from sklearn.model_selection import train_test_split"
   ]
  },
  {
   "cell_type": "code",
   "execution_count": 19,
   "id": "29399a51",
   "metadata": {},
   "outputs": [],
   "source": [
    "x_train,x_test,y_train,y_test=train_test_split(x,y,test_size=0.1,random_state=2)"
   ]
  },
  {
   "cell_type": "code",
   "execution_count": 20,
   "id": "88fc56e3",
   "metadata": {},
   "outputs": [
    {
     "data": {
      "text/plain": [
       "(45,)"
      ]
     },
     "execution_count": 20,
     "metadata": {},
     "output_type": "execute_result"
    }
   ],
   "source": [
    "y_test.shape"
   ]
  },
  {
   "cell_type": "code",
   "execution_count": 21,
   "id": "1b642264",
   "metadata": {},
   "outputs": [],
   "source": [
    "from sklearn.linear_model import LinearRegression"
   ]
  },
  {
   "cell_type": "code",
   "execution_count": 22,
   "id": "cf612655",
   "metadata": {},
   "outputs": [],
   "source": [
    "obj=LinearRegression()"
   ]
  },
  {
   "cell_type": "code",
   "execution_count": 23,
   "id": "0a9b81a0",
   "metadata": {},
   "outputs": [
    {
     "data": {
      "text/html": [
       "<style>#sk-container-id-1 {color: black;background-color: white;}#sk-container-id-1 pre{padding: 0;}#sk-container-id-1 div.sk-toggleable {background-color: white;}#sk-container-id-1 label.sk-toggleable__label {cursor: pointer;display: block;width: 100%;margin-bottom: 0;padding: 0.3em;box-sizing: border-box;text-align: center;}#sk-container-id-1 label.sk-toggleable__label-arrow:before {content: \"▸\";float: left;margin-right: 0.25em;color: #696969;}#sk-container-id-1 label.sk-toggleable__label-arrow:hover:before {color: black;}#sk-container-id-1 div.sk-estimator:hover label.sk-toggleable__label-arrow:before {color: black;}#sk-container-id-1 div.sk-toggleable__content {max-height: 0;max-width: 0;overflow: hidden;text-align: left;background-color: #f0f8ff;}#sk-container-id-1 div.sk-toggleable__content pre {margin: 0.2em;color: black;border-radius: 0.25em;background-color: #f0f8ff;}#sk-container-id-1 input.sk-toggleable__control:checked~div.sk-toggleable__content {max-height: 200px;max-width: 100%;overflow: auto;}#sk-container-id-1 input.sk-toggleable__control:checked~label.sk-toggleable__label-arrow:before {content: \"▾\";}#sk-container-id-1 div.sk-estimator input.sk-toggleable__control:checked~label.sk-toggleable__label {background-color: #d4ebff;}#sk-container-id-1 div.sk-label input.sk-toggleable__control:checked~label.sk-toggleable__label {background-color: #d4ebff;}#sk-container-id-1 input.sk-hidden--visually {border: 0;clip: rect(1px 1px 1px 1px);clip: rect(1px, 1px, 1px, 1px);height: 1px;margin: -1px;overflow: hidden;padding: 0;position: absolute;width: 1px;}#sk-container-id-1 div.sk-estimator {font-family: monospace;background-color: #f0f8ff;border: 1px dotted black;border-radius: 0.25em;box-sizing: border-box;margin-bottom: 0.5em;}#sk-container-id-1 div.sk-estimator:hover {background-color: #d4ebff;}#sk-container-id-1 div.sk-parallel-item::after {content: \"\";width: 100%;border-bottom: 1px solid gray;flex-grow: 1;}#sk-container-id-1 div.sk-label:hover label.sk-toggleable__label {background-color: #d4ebff;}#sk-container-id-1 div.sk-serial::before {content: \"\";position: absolute;border-left: 1px solid gray;box-sizing: border-box;top: 0;bottom: 0;left: 50%;z-index: 0;}#sk-container-id-1 div.sk-serial {display: flex;flex-direction: column;align-items: center;background-color: white;padding-right: 0.2em;padding-left: 0.2em;position: relative;}#sk-container-id-1 div.sk-item {position: relative;z-index: 1;}#sk-container-id-1 div.sk-parallel {display: flex;align-items: stretch;justify-content: center;background-color: white;position: relative;}#sk-container-id-1 div.sk-item::before, #sk-container-id-1 div.sk-parallel-item::before {content: \"\";position: absolute;border-left: 1px solid gray;box-sizing: border-box;top: 0;bottom: 0;left: 50%;z-index: -1;}#sk-container-id-1 div.sk-parallel-item {display: flex;flex-direction: column;z-index: 1;position: relative;background-color: white;}#sk-container-id-1 div.sk-parallel-item:first-child::after {align-self: flex-end;width: 50%;}#sk-container-id-1 div.sk-parallel-item:last-child::after {align-self: flex-start;width: 50%;}#sk-container-id-1 div.sk-parallel-item:only-child::after {width: 0;}#sk-container-id-1 div.sk-dashed-wrapped {border: 1px dashed gray;margin: 0 0.4em 0.5em 0.4em;box-sizing: border-box;padding-bottom: 0.4em;background-color: white;}#sk-container-id-1 div.sk-label label {font-family: monospace;font-weight: bold;display: inline-block;line-height: 1.2em;}#sk-container-id-1 div.sk-label-container {text-align: center;}#sk-container-id-1 div.sk-container {/* jupyter's `normalize.less` sets `[hidden] { display: none; }` but bootstrap.min.css set `[hidden] { display: none !important; }` so we also need the `!important` here to be able to override the default hidden behavior on the sphinx rendered scikit-learn.org. See: https://github.com/scikit-learn/scikit-learn/issues/21755 */display: inline-block !important;position: relative;}#sk-container-id-1 div.sk-text-repr-fallback {display: none;}</style><div id=\"sk-container-id-1\" class=\"sk-top-container\"><div class=\"sk-text-repr-fallback\"><pre>LinearRegression()</pre><b>In a Jupyter environment, please rerun this cell to show the HTML representation or trust the notebook. <br />On GitHub, the HTML representation is unable to render, please try loading this page with nbviewer.org.</b></div><div class=\"sk-container\" hidden><div class=\"sk-item\"><div class=\"sk-estimator sk-toggleable\"><input class=\"sk-toggleable__control sk-hidden--visually\" id=\"sk-estimator-id-1\" type=\"checkbox\" checked><label for=\"sk-estimator-id-1\" class=\"sk-toggleable__label sk-toggleable__label-arrow\">LinearRegression</label><div class=\"sk-toggleable__content\"><pre>LinearRegression()</pre></div></div></div></div></div>"
      ],
      "text/plain": [
       "LinearRegression()"
      ]
     },
     "execution_count": 23,
     "metadata": {},
     "output_type": "execute_result"
    }
   ],
   "source": [
    "obj.fit(x_train,y_train)"
   ]
  },
  {
   "cell_type": "code",
   "execution_count": 26,
   "id": "5d1a572f",
   "metadata": {},
   "outputs": [],
   "source": [
    "y_pred=obj.predict(x_test)"
   ]
  },
  {
   "cell_type": "code",
   "execution_count": 28,
   "id": "b9e9e20d",
   "metadata": {},
   "outputs": [
    {
     "data": {
      "text/plain": [
       "array([ -15.18701492, -235.26111545,  479.42329303,  350.84419985,\n",
       "       -844.7635999 ,  529.18628628,   91.92604391,  117.00124179,\n",
       "        810.36469769,   56.03426843])"
      ]
     },
     "execution_count": 28,
     "metadata": {},
     "output_type": "execute_result"
    }
   ],
   "source": [
    "obj.coef_"
   ]
  },
  {
   "cell_type": "code",
   "execution_count": 31,
   "id": "993028fd",
   "metadata": {},
   "outputs": [
    {
     "data": {
      "text/plain": [
       "152.3439331860667"
      ]
     },
     "execution_count": 31,
     "metadata": {},
     "output_type": "execute_result"
    }
   ],
   "source": [
    "obj.intercept_"
   ]
  },
  {
   "cell_type": "code",
   "execution_count": 25,
   "id": "98fe43ad",
   "metadata": {},
   "outputs": [],
   "source": [
    "from sklearn.metrics import r2_score"
   ]
  },
  {
   "cell_type": "code",
   "execution_count": 27,
   "id": "c1807b8a",
   "metadata": {},
   "outputs": [
    {
     "data": {
      "text/plain": [
       "0.5161508238085535"
      ]
     },
     "execution_count": 27,
     "metadata": {},
     "output_type": "execute_result"
    }
   ],
   "source": [
    "r2_score(y_test,y_pred)"
   ]
  },
  {
   "cell_type": "markdown",
   "id": "25242467",
   "metadata": {},
   "source": [
    "### Now building model From the stracth(origin)"
   ]
  },
  {
   "cell_type": "code",
   "execution_count": 48,
   "id": "2a86ffd7",
   "metadata": {},
   "outputs": [],
   "source": [
    "class MR:\n",
    "    def __init__(self):\n",
    "        self.coeff=None\n",
    "        self.inter=None\n",
    "    def fit(self,x_train,y_train):\n",
    "        beta=np.linalg.inv(np.dot(x_train.T,x_train)).dot(x_train.T).dot(y_train)\n",
    "        self.coeff=beta[1:]\n",
    "        self.inter=beta[0]\n",
    "    def predict(self,x_test):\n",
    "        return self.inter+np.dot(x_test,self.coeff)\n",
    "        "
   ]
  },
  {
   "cell_type": "code",
   "execution_count": 33,
   "id": "9f163df9",
   "metadata": {},
   "outputs": [
    {
     "data": {
      "text/plain": [
       "array([[ 1.        ,  1.        , -0.06726771, ...,  0.03430886,\n",
       "         0.01919647, -0.03421455],\n",
       "       [ 1.        ,  1.        ,  0.0562386 , ..., -0.00259226,\n",
       "        -0.02364686,  0.02377494],\n",
       "       [ 1.        ,  1.        ,  0.02354575, ...,  0.15534454,\n",
       "         0.13339674,  0.08176444],\n",
       "       ...,\n",
       "       [ 1.        ,  1.        ,  0.06350368, ..., -0.00259226,\n",
       "         0.08449153, -0.01764613],\n",
       "       [ 1.        ,  1.        , -0.05273755, ...,  0.1081111 ,\n",
       "         0.03606033, -0.04249877],\n",
       "       [ 1.        ,  1.        ,  0.00175052, ...,  0.1081111 ,\n",
       "         0.06898589,  0.12732762]])"
      ]
     },
     "execution_count": 33,
     "metadata": {},
     "output_type": "execute_result"
    }
   ],
   "source": [
    "np.insert(x_train,0,1,axis=1)"
   ]
  },
  {
   "cell_type": "code",
   "execution_count": 37,
   "id": "b01bf79a",
   "metadata": {},
   "outputs": [
    {
     "data": {
      "text/plain": [
       "array([ 152.34393319,  -15.18701492, -235.26111545,  479.42329303,\n",
       "        350.84419985, -844.7635999 ,  529.18628628,   91.92604391,\n",
       "        117.00124179,  810.36469769,   56.03426843])"
      ]
     },
     "execution_count": 37,
     "metadata": {},
     "output_type": "execute_result"
    }
   ],
   "source": [
    "# betas value can be calculate by this\n",
    "np.linalg.inv(np.dot(x_train.T,x_train)).dot(x_train.T).dot(y_train)"
   ]
  },
  {
   "cell_type": "code",
   "execution_count": 36,
   "id": "adb3b5aa",
   "metadata": {},
   "outputs": [
    {
     "data": {
      "text/plain": [
       "array([[ 1.        , -0.06726771,  0.05068012, ...,  0.03430886,\n",
       "         0.01919647, -0.03421455],\n",
       "       [ 1.        ,  0.0562386 ,  0.05068012, ..., -0.00259226,\n",
       "        -0.02364686,  0.02377494],\n",
       "       [ 1.        ,  0.02354575,  0.05068012, ...,  0.15534454,\n",
       "         0.13339674,  0.08176444],\n",
       "       ...,\n",
       "       [ 1.        ,  0.06350368,  0.05068012, ..., -0.00259226,\n",
       "         0.08449153, -0.01764613],\n",
       "       [ 1.        , -0.05273755,  0.05068012, ...,  0.1081111 ,\n",
       "         0.03606033, -0.04249877],\n",
       "       [ 1.        ,  0.00175052,  0.05068012, ...,  0.1081111 ,\n",
       "         0.06898589,  0.12732762]])"
      ]
     },
     "execution_count": 36,
     "metadata": {},
     "output_type": "execute_result"
    }
   ],
   "source": [
    "x_train"
   ]
  },
  {
   "cell_type": "code",
   "execution_count": 49,
   "id": "4644a1dd",
   "metadata": {},
   "outputs": [],
   "source": [
    "obj2=MR()"
   ]
  },
  {
   "cell_type": "code",
   "execution_count": 50,
   "id": "af3c8571",
   "metadata": {},
   "outputs": [],
   "source": [
    "obj2.fit(x_train,y_train)"
   ]
  },
  {
   "cell_type": "code",
   "execution_count": 52,
   "id": "33fe4bd3",
   "metadata": {},
   "outputs": [],
   "source": [
    "y_pred=obj2.predict(x_test)"
   ]
  },
  {
   "cell_type": "code",
   "execution_count": 53,
   "id": "73e84bbb",
   "metadata": {},
   "outputs": [
    {
     "data": {
      "text/plain": [
       "0.5161508238085547"
      ]
     },
     "execution_count": 53,
     "metadata": {},
     "output_type": "execute_result"
    }
   ],
   "source": [
    "r2_score(y_test,y_pred)"
   ]
  },
  {
   "cell_type": "code",
   "execution_count": 54,
   "id": "8011a590",
   "metadata": {},
   "outputs": [
    {
     "data": {
      "text/plain": [
       "152.34393318606672"
      ]
     },
     "execution_count": 54,
     "metadata": {},
     "output_type": "execute_result"
    }
   ],
   "source": [
    "obj2.inter"
   ]
  },
  {
   "cell_type": "code",
   "execution_count": 55,
   "id": "ea528877",
   "metadata": {},
   "outputs": [
    {
     "data": {
      "text/plain": [
       "array([ -15.18701492, -235.26111545,  479.42329303,  350.84419985,\n",
       "       -844.7635999 ,  529.18628628,   91.92604391,  117.00124179,\n",
       "        810.36469769,   56.03426843])"
      ]
     },
     "execution_count": 55,
     "metadata": {},
     "output_type": "execute_result"
    }
   ],
   "source": [
    "obj2.coeff"
   ]
  },
  {
   "cell_type": "code",
   "execution_count": 56,
   "id": "f099084f",
   "metadata": {},
   "outputs": [],
   "source": [
    "class VR:\n",
    "    def fit(self,x_train,y_train):\n",
    "        beta=np.linalg.inv(np.dot(x_train.T,x_train)).dot(x_train.T).dot(y_train)\n",
    "        self.coeff=beta[1:]\n",
    "        self.inter=beta[0]\n",
    "    def predict(self,x_test):\n",
    "        return self.inter+np.dot(x_test,self.coeff)\n",
    "        "
   ]
  },
  {
   "cell_type": "code",
   "execution_count": 57,
   "id": "b80f5298",
   "metadata": {},
   "outputs": [],
   "source": [
    "vr=VR()"
   ]
  },
  {
   "cell_type": "code",
   "execution_count": 58,
   "id": "3002ff14",
   "metadata": {},
   "outputs": [],
   "source": [
    "vr.fit(x_train,y_train)"
   ]
  },
  {
   "cell_type": "code",
   "execution_count": null,
   "id": "1edc9091",
   "metadata": {},
   "outputs": [],
   "source": [
    "vr.predic"
   ]
  },
  {
   "cell_type": "markdown",
   "id": "1d2e588b",
   "metadata": {},
   "source": [
    "### GRADIENT DESCENT CORE LOGIC"
   ]
  },
  {
   "cell_type": "code",
   "execution_count": 1,
   "id": "0b833045",
   "metadata": {},
   "outputs": [],
   "source": [
    "import pandas as pd\n",
    "import numpy as np\n",
    "from sklearn.datasets import make_regression"
   ]
  },
  {
   "cell_type": "code",
   "execution_count": 43,
   "id": "ca2c382c",
   "metadata": {},
   "outputs": [],
   "source": [
    "X,y = make_regression(n_samples=100, n_features=1, n_informative=1, n_targets=1,noise=20,random_state=13)"
   ]
  },
  {
   "cell_type": "code",
   "execution_count": 49,
   "id": "8daf1a07",
   "metadata": {},
   "outputs": [
    {
     "data": {
      "text/plain": [
       "0     0.159893\n",
       "1     1.374593\n",
       "2     0.673801\n",
       "3     0.718274\n",
       "4     2.087871\n",
       "        ...   \n",
       "95    0.050562\n",
       "96    0.048006\n",
       "97    1.531791\n",
       "98    0.360638\n",
       "99   -1.455534\n",
       "Name: 0, Length: 100, dtype: float64"
      ]
     },
     "execution_count": 49,
     "metadata": {},
     "output_type": "execute_result"
    }
   ],
   "source": [
    "x"
   ]
  },
  {
   "cell_type": "code",
   "execution_count": 44,
   "id": "e09af524",
   "metadata": {},
   "outputs": [],
   "source": [
    "import matplotlib.pyplot as plt"
   ]
  },
  {
   "cell_type": "code",
   "execution_count": 45,
   "id": "aef27c3e",
   "metadata": {},
   "outputs": [
    {
     "data": {
      "text/plain": [
       "<matplotlib.collections.PathCollection at 0x243eb5b6a10>"
      ]
     },
     "execution_count": 45,
     "metadata": {},
     "output_type": "execute_result"
    },
    {
     "data": {
      "image/png": "[encoded data removed]",
      "text/plain": [
       "<Figure size 432x288 with 1 Axes>"
      ]
     },
     "metadata": {
      "needs_background": "light"
     },
     "output_type": "display_data"
    }
   ],
   "source": [
    "plt.scatter(X,y)"
   ]
  },
  {
   "cell_type": "code",
   "execution_count": 94,
   "id": "fd03d378",
   "metadata": {},
   "outputs": [],
   "source": [
    "from sklearn.model_selection import train_test_split\n",
    "X_train,X_test,y_train,y_test = train_test_split(X,y,test_size=0.2,random_state=2)"
   ]
  },
  {
   "cell_type": "code",
   "execution_count": 96,
   "id": "f73018fa",
   "metadata": {},
   "outputs": [],
   "source": [
    "y_pred=lr.predict(X_test)"
   ]
  },
  {
   "cell_type": "code",
   "execution_count": 107,
   "id": "21dbea29",
   "metadata": {},
   "outputs": [
    {
     "data": {
      "text/plain": [
       "[<matplotlib.lines.Line2D at 0x243ef18b190>]"
      ]
     },
     "execution_count": 107,
     "metadata": {},
     "output_type": "execute_result"
    },
    {
     "data": {
      "image/png": "[encoded data removed]",
      "text/plain": [
       "<Figure size 360x288 with 1 Axes>"
      ]
     },
     "metadata": {
      "needs_background": "light"
     },
     "output_type": "display_data"
    }
   ],
   "source": [
    " plt.figure(figsize=(5, 4))\n",
    "plt.scatter(X,y)\n",
    "plt.plot(X_test, y_pred,color='k')"
   ]
  },
  {
   "cell_type": "code",
   "execution_count": 51,
   "id": "5db66b88",
   "metadata": {},
   "outputs": [],
   "source": [
    "from sklearn.linear_model import LinearRegression"
   ]
  },
  {
   "cell_type": "code",
   "execution_count": 52,
   "id": "720ef58c",
   "metadata": {},
   "outputs": [],
   "source": [
    "lr=LinearRegression()"
   ]
  },
  {
   "cell_type": "code",
   "execution_count": 54,
   "id": "59acab4f",
   "metadata": {},
   "outputs": [
    {
     "data": {
      "text/html": [
       "<style>#sk-container-id-1 {color: black;background-color: white;}#sk-container-id-1 pre{padding: 0;}#sk-container-id-1 div.sk-toggleable {background-color: white;}#sk-container-id-1 label.sk-toggleable__label {cursor: pointer;display: block;width: 100%;margin-bottom: 0;padding: 0.3em;box-sizing: border-box;text-align: center;}#sk-container-id-1 label.sk-toggleable__label-arrow:before {content: \"▸\";float: left;margin-right: 0.25em;color: #696969;}#sk-container-id-1 label.sk-toggleable__label-arrow:hover:before {color: black;}#sk-container-id-1 div.sk-estimator:hover label.sk-toggleable__label-arrow:before {color: black;}#sk-container-id-1 div.sk-toggleable__content {max-height: 0;max-width: 0;overflow: hidden;text-align: left;background-color: #f0f8ff;}#sk-container-id-1 div.sk-toggleable__content pre {margin: 0.2em;color: black;border-radius: 0.25em;background-color: #f0f8ff;}#sk-container-id-1 input.sk-toggleable__control:checked~div.sk-toggleable__content {max-height: 200px;max-width: 100%;overflow: auto;}#sk-container-id-1 input.sk-toggleable__control:checked~label.sk-toggleable__label-arrow:before {content: \"▾\";}#sk-container-id-1 div.sk-estimator input.sk-toggleable__control:checked~label.sk-toggleable__label {background-color: #d4ebff;}#sk-container-id-1 div.sk-label input.sk-toggleable__control:checked~label.sk-toggleable__label {background-color: #d4ebff;}#sk-container-id-1 input.sk-hidden--visually {border: 0;clip: rect(1px 1px 1px 1px);clip: rect(1px, 1px, 1px, 1px);height: 1px;margin: -1px;overflow: hidden;padding: 0;position: absolute;width: 1px;}#sk-container-id-1 div.sk-estimator {font-family: monospace;background-color: #f0f8ff;border: 1px dotted black;border-radius: 0.25em;box-sizing: border-box;margin-bottom: 0.5em;}#sk-container-id-1 div.sk-estimator:hover {background-color: #d4ebff;}#sk-container-id-1 div.sk-parallel-item::after {content: \"\";width: 100%;border-bottom: 1px solid gray;flex-grow: 1;}#sk-container-id-1 div.sk-label:hover label.sk-toggleable__label {background-color: #d4ebff;}#sk-container-id-1 div.sk-serial::before {content: \"\";position: absolute;border-left: 1px solid gray;box-sizing: border-box;top: 0;bottom: 0;left: 50%;z-index: 0;}#sk-container-id-1 div.sk-serial {display: flex;flex-direction: column;align-items: center;background-color: white;padding-right: 0.2em;padding-left: 0.2em;position: relative;}#sk-container-id-1 div.sk-item {position: relative;z-index: 1;}#sk-container-id-1 div.sk-parallel {display: flex;align-items: stretch;justify-content: center;background-color: white;position: relative;}#sk-container-id-1 div.sk-item::before, #sk-container-id-1 div.sk-parallel-item::before {content: \"\";position: absolute;border-left: 1px solid gray;box-sizing: border-box;top: 0;bottom: 0;left: 50%;z-index: -1;}#sk-container-id-1 div.sk-parallel-item {display: flex;flex-direction: column;z-index: 1;position: relative;background-color: white;}#sk-container-id-1 div.sk-parallel-item:first-child::after {align-self: flex-end;width: 50%;}#sk-container-id-1 div.sk-parallel-item:last-child::after {align-self: flex-start;width: 50%;}#sk-container-id-1 div.sk-parallel-item:only-child::after {width: 0;}#sk-container-id-1 div.sk-dashed-wrapped {border: 1px dashed gray;margin: 0 0.4em 0.5em 0.4em;box-sizing: border-box;padding-bottom: 0.4em;background-color: white;}#sk-container-id-1 div.sk-label label {font-family: monospace;font-weight: bold;display: inline-block;line-height: 1.2em;}#sk-container-id-1 div.sk-label-container {text-align: center;}#sk-container-id-1 div.sk-container {/* jupyter's `normalize.less` sets `[hidden] { display: none; }` but bootstrap.min.css set `[hidden] { display: none !important; }` so we also need the `!important` here to be able to override the default hidden behavior on the sphinx rendered scikit-learn.org. See: https://github.com/scikit-learn/scikit-learn/issues/21755 */display: inline-block !important;position: relative;}#sk-container-id-1 div.sk-text-repr-fallback {display: none;}</style><div id=\"sk-container-id-1\" class=\"sk-top-container\"><div class=\"sk-text-repr-fallback\"><pre>LinearRegression()</pre><b>In a Jupyter environment, please rerun this cell to show the HTML representation or trust the notebook. <br />On GitHub, the HTML representation is unable to render, please try loading this page with nbviewer.org.</b></div><div class=\"sk-container\" hidden><div class=\"sk-item\"><div class=\"sk-estimator sk-toggleable\"><input class=\"sk-toggleable__control sk-hidden--visually\" id=\"sk-estimator-id-1\" type=\"checkbox\" checked><label for=\"sk-estimator-id-1\" class=\"sk-toggleable__label sk-toggleable__label-arrow\">LinearRegression</label><div class=\"sk-toggleable__content\"><pre>LinearRegression()</pre></div></div></div></div></div>"
      ],
      "text/plain": [
       "LinearRegression()"
      ]
     },
     "execution_count": 54,
     "metadata": {},
     "output_type": "execute_result"
    }
   ],
   "source": [
    "lr.fit(X,y)"
   ]
  },
  {
   "cell_type": "code",
   "execution_count": 55,
   "id": "d8786113",
   "metadata": {},
   "outputs": [
    {
     "data": {
      "text/plain": [
       "array([27.82809103])"
      ]
     },
     "execution_count": 55,
     "metadata": {},
     "output_type": "execute_result"
    }
   ],
   "source": [
    "lr.coef_"
   ]
  },
  {
   "cell_type": "code",
   "execution_count": 56,
   "id": "87804ed7",
   "metadata": {},
   "outputs": [
    {
     "data": {
      "text/plain": [
       "-2.29474455867698"
      ]
     },
     "execution_count": 56,
     "metadata": {},
     "output_type": "execute_result"
    }
   ],
   "source": [
    "lr.intercept_"
   ]
  },
  {
   "cell_type": "markdown",
   "id": "9cc9b21d",
   "metadata": {},
   "source": [
    "### Now Building Logic for Gradient descent"
   ]
  },
  {
   "cell_type": "code",
   "execution_count": 91,
   "id": "cf45ea1a",
   "metadata": {},
   "outputs": [],
   "source": [
    "class Gd:\n",
    "    def __init__(self,learn,epoch):\n",
    "        \n",
    "        self.b=0\n",
    "        self.m=0\n",
    "        self.l=learn\n",
    "        self.e=epoch\n",
    "    def model(self,X,y):\n",
    "        \n",
    "        for i in range(self.e):\n",
    "            slope_b=-2*np.sum(y-self.m*X.ravel()-self.b)\n",
    "            self.b=self.b-self.l*slope_b\n",
    "            \n",
    "            slope_m=-2*np.sum((y-self.m*X.ravel()-self.b)*X.ravel())\n",
    "            self.m=self.m-self.l*slope_m\n",
    "        print(self.b,self.m)    \n",
    "             \n",
    "        "
   ]
  },
  {
   "cell_type": "code",
   "execution_count": 92,
   "id": "de9c13fa",
   "metadata": {},
   "outputs": [],
   "source": [
    "obj=Gd(0.01,100)"
   ]
  },
  {
   "cell_type": "markdown",
   "id": "af858d9f",
   "metadata": {},
   "source": [
    "### we can obtain m,b using Gradient descent"
   ]
  },
  {
   "cell_type": "code",
   "execution_count": 93,
   "id": "7a722a69",
   "metadata": {},
   "outputs": [
    {
     "name": "stdout",
     "output_type": "stream",
     "text": [
      "-2.3140217057194556 27.839208431186012\n"
     ]
    }
   ],
   "source": [
    "obj.model(X,y)"
   ]
  },
  {
   "cell_type": "markdown",
   "id": "3b054c85",
   "metadata": {},
   "source": [
    "### For N dimensional features of batch gradient descent"
   ]
  },
  {
   "cell_type": "code",
   "execution_count": 3,
   "id": "dd572d28",
   "metadata": {},
   "outputs": [],
   "source": [
    "import pandas as pd\n",
    "import numpy as np\n",
    "from sklearn.datasets import load_diabetes"
   ]
  },
  {
   "cell_type": "code",
   "execution_count": 4,
   "id": "a0c016d6",
   "metadata": {},
   "outputs": [],
   "source": [
    "x,y=load_diabetes(return_X_y=True)"
   ]
  },
  {
   "cell_type": "code",
   "execution_count": 3,
   "id": "7c33c0a0",
   "metadata": {},
   "outputs": [
    {
     "data": {
      "text/plain": [
       "((442, 10), (442,))"
      ]
     },
     "execution_count": 3,
     "metadata": {},
     "output_type": "execute_result"
    }
   ],
   "source": [
    "x.shape,y.shape"
   ]
  },
  {
   "cell_type": "code",
   "execution_count": 9,
   "id": "30737df4",
   "metadata": {},
   "outputs": [],
   "source": [
    "from sklearn.linear_model import LinearRegression"
   ]
  },
  {
   "cell_type": "code",
   "execution_count": 17,
   "id": "73ce5df3",
   "metadata": {},
   "outputs": [],
   "source": [
    "lr=LinearRegression()"
   ]
  },
  {
   "cell_type": "code",
   "execution_count": 5,
   "id": "be2b2339",
   "metadata": {},
   "outputs": [],
   "source": [
    "from sklearn.model_selection import train_test_split"
   ]
  },
  {
   "cell_type": "code",
   "execution_count": 6,
   "id": "03a94292",
   "metadata": {},
   "outputs": [],
   "source": [
    "x_train,x_test,y_train,y_test=train_test_split(x,y,test_size=0.2,random_state=2)"
   ]
  },
  {
   "cell_type": "code",
   "execution_count": 12,
   "id": "ab178c05",
   "metadata": {},
   "outputs": [
    {
     "data": {
      "text/plain": [
       "((353, 10), (89, 10))"
      ]
     },
     "execution_count": 12,
     "metadata": {},
     "output_type": "execute_result"
    }
   ],
   "source": [
    "x_train.shape,x_test.shape"
   ]
  },
  {
   "cell_type": "code",
   "execution_count": 23,
   "id": "0776dd6c",
   "metadata": {},
   "outputs": [
    {
     "data": {
      "text/html": [
       "<style>#sk-container-id-1 {color: black;background-color: white;}#sk-container-id-1 pre{padding: 0;}#sk-container-id-1 div.sk-toggleable {background-color: white;}#sk-container-id-1 label.sk-toggleable__label {cursor: pointer;display: block;width: 100%;margin-bottom: 0;padding: 0.3em;box-sizing: border-box;text-align: center;}#sk-container-id-1 label.sk-toggleable__label-arrow:before {content: \"▸\";float: left;margin-right: 0.25em;color: #696969;}#sk-container-id-1 label.sk-toggleable__label-arrow:hover:before {color: black;}#sk-container-id-1 div.sk-estimator:hover label.sk-toggleable__label-arrow:before {color: black;}#sk-container-id-1 div.sk-toggleable__content {max-height: 0;max-width: 0;overflow: hidden;text-align: left;background-color: #f0f8ff;}#sk-container-id-1 div.sk-toggleable__content pre {margin: 0.2em;color: black;border-radius: 0.25em;background-color: #f0f8ff;}#sk-container-id-1 input.sk-toggleable__control:checked~div.sk-toggleable__content {max-height: 200px;max-width: 100%;overflow: auto;}#sk-container-id-1 input.sk-toggleable__control:checked~label.sk-toggleable__label-arrow:before {content: \"▾\";}#sk-container-id-1 div.sk-estimator input.sk-toggleable__control:checked~label.sk-toggleable__label {background-color: #d4ebff;}#sk-container-id-1 div.sk-label input.sk-toggleable__control:checked~label.sk-toggleable__label {background-color: #d4ebff;}#sk-container-id-1 input.sk-hidden--visually {border: 0;clip: rect(1px 1px 1px 1px);clip: rect(1px, 1px, 1px, 1px);height: 1px;margin: -1px;overflow: hidden;padding: 0;position: absolute;width: 1px;}#sk-container-id-1 div.sk-estimator {font-family: monospace;background-color: #f0f8ff;border: 1px dotted black;border-radius: 0.25em;box-sizing: border-box;margin-bottom: 0.5em;}#sk-container-id-1 div.sk-estimator:hover {background-color: #d4ebff;}#sk-container-id-1 div.sk-parallel-item::after {content: \"\";width: 100%;border-bottom: 1px solid gray;flex-grow: 1;}#sk-container-id-1 div.sk-label:hover label.sk-toggleable__label {background-color: #d4ebff;}#sk-container-id-1 div.sk-serial::before {content: \"\";position: absolute;border-left: 1px solid gray;box-sizing: border-box;top: 0;bottom: 0;left: 50%;z-index: 0;}#sk-container-id-1 div.sk-serial {display: flex;flex-direction: column;align-items: center;background-color: white;padding-right: 0.2em;padding-left: 0.2em;position: relative;}#sk-container-id-1 div.sk-item {position: relative;z-index: 1;}#sk-container-id-1 div.sk-parallel {display: flex;align-items: stretch;justify-content: center;background-color: white;position: relative;}#sk-container-id-1 div.sk-item::before, #sk-container-id-1 div.sk-parallel-item::before {content: \"\";position: absolute;border-left: 1px solid gray;box-sizing: border-box;top: 0;bottom: 0;left: 50%;z-index: -1;}#sk-container-id-1 div.sk-parallel-item {display: flex;flex-direction: column;z-index: 1;position: relative;background-color: white;}#sk-container-id-1 div.sk-parallel-item:first-child::after {align-self: flex-end;width: 50%;}#sk-container-id-1 div.sk-parallel-item:last-child::after {align-self: flex-start;width: 50%;}#sk-container-id-1 div.sk-parallel-item:only-child::after {width: 0;}#sk-container-id-1 div.sk-dashed-wrapped {border: 1px dashed gray;margin: 0 0.4em 0.5em 0.4em;box-sizing: border-box;padding-bottom: 0.4em;background-color: white;}#sk-container-id-1 div.sk-label label {font-family: monospace;font-weight: bold;display: inline-block;line-height: 1.2em;}#sk-container-id-1 div.sk-label-container {text-align: center;}#sk-container-id-1 div.sk-container {/* jupyter's `normalize.less` sets `[hidden] { display: none; }` but bootstrap.min.css set `[hidden] { display: none !important; }` so we also need the `!important` here to be able to override the default hidden behavior on the sphinx rendered scikit-learn.org. See: https://github.com/scikit-learn/scikit-learn/issues/21755 */display: inline-block !important;position: relative;}#sk-container-id-1 div.sk-text-repr-fallback {display: none;}</style><div id=\"sk-container-id-1\" class=\"sk-top-container\"><div class=\"sk-text-repr-fallback\"><pre>LinearRegression()</pre><b>In a Jupyter environment, please rerun this cell to show the HTML representation or trust the notebook. <br />On GitHub, the HTML representation is unable to render, please try loading this page with nbviewer.org.</b></div><div class=\"sk-container\" hidden><div class=\"sk-item\"><div class=\"sk-estimator sk-toggleable\"><input class=\"sk-toggleable__control sk-hidden--visually\" id=\"sk-estimator-id-1\" type=\"checkbox\" checked><label for=\"sk-estimator-id-1\" class=\"sk-toggleable__label sk-toggleable__label-arrow\">LinearRegression</label><div class=\"sk-toggleable__content\"><pre>LinearRegression()</pre></div></div></div></div></div>"
      ],
      "text/plain": [
       "LinearRegression()"
      ]
     },
     "execution_count": 23,
     "metadata": {},
     "output_type": "execute_result"
    }
   ],
   "source": [
    "lr.fit(x_train,y_train)"
   ]
  },
  {
   "cell_type": "code",
   "execution_count": 25,
   "id": "8b1633cd",
   "metadata": {},
   "outputs": [
    {
     "data": {
      "text/plain": [
       "(array([  -9.15865318, -205.45432163,  516.69374454,  340.61999905,\n",
       "        -895.5520019 ,  561.22067904,  153.89310954,  126.73139688,\n",
       "         861.12700152,   52.42112238]),\n",
       " 151.88331005254167)"
      ]
     },
     "execution_count": 25,
     "metadata": {},
     "output_type": "execute_result"
    }
   ],
   "source": [
    "lr.coef_,lr.intercept_"
   ]
  },
  {
   "cell_type": "markdown",
   "id": "01fba24e",
   "metadata": {},
   "source": [
    "### now building from scratch batch gradient descent"
   ]
  },
  {
   "cell_type": "code",
   "execution_count": 1,
   "id": "bd2fb9a4",
   "metadata": {},
   "outputs": [],
   "source": [
    "import numpy as np"
   ]
  },
  {
   "cell_type": "code",
   "execution_count": 34,
   "id": "744b9f9b",
   "metadata": {},
   "outputs": [],
   "source": [
    "class batchgd:\n",
    "    def __init__(self,learn=0.01,epoch=100):\n",
    "        self.l=learn\n",
    "        self.e=epoch\n",
    "        \n",
    "    def fit(self,x_train,y_train):\n",
    "        \n",
    "        \n",
    "        #initialization \n",
    "        self.intercept=0\n",
    "        self.coef=np.ones(x_train.shape[1])\n",
    "        for i in range(self.e):\n",
    "            \n",
    "            y_hat=self.intercept+np.dot(x_train,self.coef)\n",
    "#         #print(self.intercept+np.dot(x_train,self.coef))\n",
    "#         #print(y_hat.shape)\n",
    "            loss_inter=-2*np.mean(y_train-y_hat)\n",
    "#         #print(loss_inter)\n",
    "            self.intercept=self.intercept-(self.l*loss_inter)\n",
    "#             print(self.intercept)\n",
    "            \n",
    "            # for coefficient\n",
    "            loss_coef=-2*np.dot((y_train-y_hat),x_train)/x_train.shape[0]\n",
    "             #print(loss_coef)             \n",
    "            self.coef=self.coef-(self.l*loss_coef)\n",
    "            print(self.coef)\n",
    "    def predict(self,x_test):\n",
    "            return np.dot(x_test,self.coef)+self.intercept"
   ]
  },
  {
   "cell_type": "code",
   "execution_count": 46,
   "id": "802f5238",
   "metadata": {},
   "outputs": [],
   "source": [
    "obj=batchgd(epoch=100,learn=0.7)"
   ]
  },
  {
   "cell_type": "code",
   "execution_count": 47,
   "id": "b7487b18",
   "metadata": {},
   "outputs": [
    {
     "name": "stdout",
     "output_type": "stream",
     "text": [
      "[ 2.14591022  0.96909839  3.6154782   3.29361994  1.91199192  1.47084458\n",
      " -0.48046987  2.51849944  3.95381538  2.66085033]\n",
      "[ 3.30610786  1.35289568  6.81159144  5.66855744  3.08943668  2.51076836\n",
      " -2.62339408  4.80769807  6.9681723   4.58406061]\n",
      "[ 4.43602727  1.5548897   9.73816129  7.97896209  4.13111688  3.2936658\n",
      " -4.47081956  6.74804417  9.91673605  6.36879949]\n",
      "[ 5.55381496  1.8139291  12.73570654 10.28354858  5.19795077  4.15043267\n",
      " -6.40632541  8.78792294 12.8505419   8.17582957]\n",
      "[ 6.65252635  2.03469003 15.66842027 12.55919384  6.22597719  4.94911808\n",
      " -8.27682634 10.74848318 15.74966471  9.94125098]\n",
      "[  7.7352502    2.25552649  18.59103752  14.8155083    7.24118921\n",
      "   5.74292053 -10.1439172   12.70178364  18.62255987  11.69103156]\n",
      "[  8.80105761   2.46131383  21.48206486  17.04900343   8.23358972\n",
      "   6.51096681 -11.98330886  14.61950376  21.4663235   13.41518386]\n",
      "[  9.85062304   2.65831793  24.35049803  19.26142636   9.2075737\n",
      "   7.26200965 -13.80506446  16.5134718   24.28258987  15.11809879]\n",
      "[ 10.88397567   2.84424495  27.1931312   21.45242547  10.16177357\n",
      "   7.99294505 -15.60550074  18.37944875  27.07117192  16.79841046]\n",
      "[ 11.90139905   3.02022253  30.01163478  23.62248445  11.09712187\n",
      "   8.70540688 -17.38642928  20.21961677  29.83260539  18.457051  ]\n",
      "[ 12.90307122   3.18600688  32.80572381  25.77174862  12.01362595\n",
      "   9.39912855 -19.14745933  22.03358315  32.5671311   20.09402845]\n",
      "[ 13.88920875   3.34190021  35.57589087  27.90049452  12.91165825\n",
      "  10.07459861 -20.88907705  23.8219791   35.27510218  21.70971575]\n",
      "[ 14.86000912   3.48798366  38.32231288  30.00894209  13.79144024\n",
      "  10.73199848 -22.61141372  25.5850202   37.95682122  23.30433515]\n",
      "[ 15.81567386   3.62442423  41.04528848  32.09732987  14.65324892\n",
      "  11.37162751 -24.31473859  27.32308233  40.61260549  24.87816454]\n",
      "[ 16.75639932   3.75135201  43.74506314  34.16588494  15.49733426\n",
      "  11.99373293 -25.99926172  29.03647134  43.24276095  26.43145497]\n",
      "[ 17.68238042   3.86890935  46.42189916  36.21483502  16.32395229\n",
      "  12.598578   -27.66521296  30.72551532  45.84759267  27.96446369]\n",
      "[ 18.59380917   3.97723118  49.07604771  38.24440369  17.13335195\n",
      "  13.18641477 -29.31281034  32.3905277   48.42740074  29.47744101]\n",
      "[ 19.49087532   4.07645294  51.70776008  40.25481232  17.92578037\n",
      "  13.75749508 -30.94227283  34.03182212  50.98248198  30.9706356 ]\n",
      "[ 20.37376616   4.16670746  54.31728325  42.24627936  18.70148085\n",
      "  14.31206617 -32.55381524  35.64970655  53.51312935  32.44429241]\n",
      "[ 21.24266662   4.24812618  56.90486171  44.21902068  19.46069372\n",
      "  14.85037254 -34.14765031  37.2444857   56.01963219  33.89865359]\n",
      "[ 22.09775927   4.32083876  59.47073677  46.17324948  20.20365603\n",
      "  15.37265523 -35.72398794  38.81646012  58.50227626  35.33395814]\n",
      "[ 22.93922437   4.38497321  62.01514688  48.10917634  20.93060176\n",
      "  15.87915219 -37.28303553  40.36592667  60.96134372  36.75044214]\n",
      "[ 23.7672399    4.4406559   64.5383276   50.0270093   21.64176179\n",
      "  16.37009819 -38.82499789  41.89317836  63.39711324  38.14833869]\n",
      "[ 24.58198157   4.48801157  67.0405116   51.92695382  22.33736395\n",
      "  16.84572488 -40.35007732  43.39850449  65.80986003  39.52787798]\n",
      "[ 25.38362288   4.52716336  69.52192876  53.80921289  23.01763307\n",
      "  17.30626087 -41.85847364  44.88219065  68.19985585  40.88928733]\n",
      "[ 26.17233512   4.55823285  71.98280616  55.67398698  23.68279099\n",
      "  17.75193173 -43.3503842   46.34451883  70.56736909  42.23279122]\n",
      "[ 26.94828739   4.58134001  74.42336814  57.52147416  24.33305666\n",
      "  18.18296003 -44.82600392  47.78576739  72.9126648   43.55861133]\n",
      "[ 27.71164667   4.59660332  76.84383631  59.35187003  24.9686461\n",
      "  18.59956539 -46.28552533  49.20621116  75.23600473  44.86696656]\n",
      "[ 28.46257781   4.60413969  79.24442961  61.16536785  25.58977249\n",
      "  19.00196454 -47.72913859  50.60612146  77.53764736  46.15807307]\n",
      "[ 29.20124357   4.60406456  81.62536431  62.96215849  26.19664619\n",
      "  19.3903713  -49.15703152  51.98576616  79.81784798  47.43214435]\n",
      "[ 29.92780464   4.59649187  83.98685409  64.74243051  26.78947478\n",
      "  19.76499667 -50.56938964  53.3454097   82.07685869  48.68939119]\n",
      "[ 30.64241969   4.58153409  86.32911004  66.50637017  27.36846308\n",
      "  20.12604885 -51.96639618  54.68531317  84.31492846  49.93002177]\n",
      "[ 31.34524534   4.55930226  88.65234067  68.25416145  27.93381322\n",
      "  20.47373326 -53.34823211  56.0057343   86.53230315  51.15424167]\n",
      "[ 32.03643625   4.52990597  90.95675201  69.98598611  28.48572464\n",
      "  20.8082526  -54.71507621  57.30692757  88.72922558  52.3622539 ]\n",
      "[ 32.71614512   4.49345341  93.24254758  71.70202368  29.02439413\n",
      "  21.12980686 -56.06710503  58.58914418  90.90593555  53.55425892]\n",
      "[ 33.3845227    4.45005137  95.50992846  73.4024515   29.55001588\n",
      "  21.43859339 -57.40449298  59.85263214  93.06266987  54.73045471]\n",
      "[ 34.04171782   4.39980527  97.75909328  75.08744477  30.06278152\n",
      "  21.73480689 -58.72741229  61.09763632  95.19966242  55.89103678]\n",
      "[ 34.68787744   4.34281917  99.99023828  76.75717653  30.5628801\n",
      "  22.01863948 -60.03603313  62.32439842  97.31714416  57.03619818]\n",
      "[ 35.32314665   4.27919578 102.20355736  78.41181776  31.0504982\n",
      "  22.29028071 -61.33052353  63.53315709  99.41534319  58.16612957]\n",
      "[ 35.94766867   4.20903649 104.39924205  80.05153731  31.52581991\n",
      "  22.54991762 -62.6110495   64.72414793 101.49448477  59.28101922]\n",
      "[ 36.56158495   4.13244138 106.57748159  81.67650202  31.98902686\n",
      "  22.79773473 -63.87777498  65.89760353 103.55479139  60.38105306]\n",
      "[ 37.1650351    4.04950926 108.73846294  83.28687668  32.44029828\n",
      "  23.03391412 -65.13086193  67.05375351 105.59648273  61.46641469]\n",
      "[ 37.75815699   3.96033763 110.8823708   84.88282408  32.87981102\n",
      "  23.25863542 -66.3704703   68.19282456 107.61977578  62.53728544]\n",
      "[ 38.34108672   3.86502274 113.00938766  86.46450505  33.30773957\n",
      "  23.47207589 -67.59675809  69.31504048 109.62488483  63.59384435]\n",
      "[ 38.91395865   3.76365962 115.11969381  88.03207844  33.72425611\n",
      "  23.67441037 -68.80988137  70.4206222  111.61202151  64.63626825]\n",
      "[ 39.47690548   3.65634205 117.21346737  89.5857012   34.12953051\n",
      "  23.86581142 -70.00999428  71.50978786 113.5813948   65.66473176]\n",
      "[ 40.03005817   3.5431626  119.29088433  91.12552836  34.52373039\n",
      "  24.04644925 -71.1972491   72.58275279 115.53321114  66.67940732]\n",
      "[ 40.57354606   3.42421264 121.35211855  92.65171308  34.90702114\n",
      "  24.2164918  -72.37179622  73.63972958 117.46767435  67.68046522]\n",
      "[ 41.10749682   3.29958238 123.39734181  94.16440665  35.27956593\n",
      "  24.37610478 -73.5337842   74.68092809 119.38498577  68.66807363]\n",
      "[ 41.6320365    3.16936083 125.42672385  95.66375854  35.64152578\n",
      "  24.52545165 -74.68335978  75.70655552 121.28534421  69.64239862]\n",
      "[ 42.14728957   3.03363587 127.44043233  97.14991641  35.99305953\n",
      "  24.66469371 -75.8206679   76.71681642 123.16894605  70.60360419]\n",
      "[ 42.65337889   2.89249424 129.43863295  98.62302613  36.33432392\n",
      "  24.79399006 -76.94585173  77.71191272 125.03598521  71.55185231]\n",
      "[ 43.15042579   2.74602155 131.42148938 100.08323179  36.66547359\n",
      "  24.9134977  -78.0590527   78.69204378 126.8866532   72.48730291]\n",
      "[ 43.63855003   2.59430231 133.38916336 101.53067576  36.98666112\n",
      "  25.02337149 -79.1604105   79.65740639 128.7211392   73.41011394]\n",
      "[ 44.11786986   2.43741992 135.34181468 102.96549867  37.29803705\n",
      "  25.12376425 -80.25006311  80.60819487 130.53962999  74.3204414 ]\n",
      "[ 44.58850203   2.2754567  137.27960122 104.38783946  37.5997499\n",
      "  25.21482669 -81.32814683  81.54460101 132.34231009  75.2184393 ]\n",
      "[ 45.0505618    2.10849393 139.20267898 105.79783539  37.89194621\n",
      "  25.29670754 -82.39479628  82.46681417 134.1293617   76.10425979]\n",
      "[ 45.50416298   1.9366118  141.11120209 107.19562206  38.17477054\n",
      "  25.36955352 -83.45014446  83.3750213  135.90096478  76.97805307]\n",
      "[ 45.9494179    1.75988948 143.00532282 108.58133344  38.44836555\n",
      "  25.43350934 -84.49432274  84.26940695 137.65729705  77.83996751]\n",
      "[ 46.3864375    1.5784051  144.88519166 109.95510186  38.71287195\n",
      "  25.48871781 -85.52746086  85.1501533  139.39853405  78.69014962]\n",
      "[ 46.8153313    1.39223579 146.75095727 111.31705808  38.96842858\n",
      "  25.53531977 -86.54968701  86.01744022 141.12484915  79.52874408]\n",
      "[ 47.2362074    1.20145765 148.60276656 112.66733127  39.21517243\n",
      "  25.57345419 -87.5611278   86.87144526 142.83641354  80.35589377]\n",
      "[ 47.64917256   1.00614583 150.44076466 114.00604905  39.45323864\n",
      "  25.60325815 -88.5619083   87.71234373 144.53339634  81.1717398 ]\n",
      "[ 48.05433217   0.80637447 152.26509501 115.33333749  39.68276052\n",
      "  25.62486689 -89.55215204  88.54030867 146.21596454  81.97642153]\n",
      "[ 48.45179027   0.60221675 154.0758993  116.64932114  39.90386962\n",
      "  25.6384138  -90.53198108  89.35551091 147.8842831   82.77007656]\n",
      "[ 48.84164959   0.39374492 155.87331756 117.95412307  40.11669569\n",
      "  25.64403049 -91.50151594  90.15811911 149.53851491  83.55284081]\n",
      "[ 49.22401155   0.18103026 157.65748815 119.24786486  40.32136676\n",
      "  25.64184678 -92.46087572  90.94829977 151.17882087  84.32484848]\n",
      "[ 4.95989763e+01 -3.58568598e-02  1.59428548e+02  1.20530667e+02\n",
      "  4.05180091e+01  2.56319907e+01 -9.34101780e+01  9.17262172e+01\n",
      "  1.52805360e+02  8.50862321e+01]\n",
      "[ 49.96664264  -0.25684699 161.18663154 121.80264701  40.70674739\n",
      "  25.61458867 -94.34953911  92.49203378 154.4182889   85.83712263]\n",
      "[ 50.32710822  -0.48187159 162.9318729  123.06392329  40.88770446\n",
      "  25.58976521 -95.27907369  93.24590959 156.01776292  86.57764927]\n",
      "[ 50.68046937  -0.71086302 164.66440376 124.31461128  41.0610016\n",
      "  25.55764328 -96.19889518  93.98800279 157.60393503  87.30793971]\n",
      "[ 51.02682124  -0.9437545  166.38435445 125.55482543  41.22675845\n",
      "  25.51834412 -97.10911558  94.7184695  159.17695644  88.02812002]\n",
      "[ 51.36625773  -1.18048015 168.09185377 126.7846788   41.385093\n",
      "  25.47198735 -98.00984553  95.43746383 160.73697648  88.73831471]\n",
      "[ 51.69887157  -1.42097494 169.78702896 128.00428312  41.53612169\n",
      "  25.41869095 -98.90119434  96.14513791 162.28414266  89.43864673]\n",
      "[ 52.0247543   -1.66517467 171.47000578 129.21374875  41.67995935\n",
      "  25.3585713  -99.78326996  96.84164194 163.81860064  90.12923752]\n",
      "[  52.34399632   -1.913016    173.1409085   130.41318474   41.81671929\n",
      "   25.29174319 -100.65617905   97.52712418  165.34049431   90.810207  ]\n",
      "[  52.65668683   -2.16443643  174.7998599   131.60269883   41.94651326\n",
      "   25.21831984 -101.52002698   98.201731    166.84996577   91.4816736 ]\n",
      "[  52.96291394   -2.41937425  176.44698133  132.78239747   42.0694515\n",
      "   25.13841295 -102.37491781   98.8656069   168.34715539   92.14375429]\n",
      "[  53.26276461   -2.67776858  178.08239268  133.95238584   42.18564279\n",
      "   25.05213268 -103.22095438   99.51889451  169.83220178   92.79656458]\n",
      "[  53.55632471   -2.93955932  179.70621246  135.11276785   42.29519439\n",
      "   24.95958768 -104.05823824  100.16173466  171.30524188   93.44021853]\n",
      "[  53.84367901   -3.20468716  181.31855775  136.26364619   42.39821214\n",
      "   24.86088514 -104.88686974  100.79426635  172.7664109    94.07482881]\n",
      "[  54.1249112    -3.47309359  182.91954425  137.40512229   42.49480043\n",
      "   24.75613076 -105.70694798  101.41662682  174.21584242   94.70050668]\n",
      "[  54.4001039    -3.74472084  184.50928632  138.5372964    42.58506223\n",
      "   24.64542881 -106.51857088  102.02895152  175.65366837   95.31736201]\n",
      "[  54.66933869   -4.01951192  186.08789695  139.66026754   42.66909911\n",
      "   24.52888212 -107.32183518  102.6313742   177.08001904   95.92550332]\n",
      "[  54.93269609   -4.29741056  187.65548781  140.77413357   42.74701129\n",
      "   24.40659212 -108.11683642  103.22402688  178.49502314   96.52503777]\n",
      "[  55.19025562   -4.57836126  189.21216925  141.87899118   42.81889757\n",
      "   24.27865885 -108.903669    103.80703988  179.89880778   97.11607122]\n",
      "[  55.44209577   -4.86230924  190.75805033  142.97493591   42.88485546\n",
      "   24.14518098 -109.68242619  104.38054186  181.29149852   97.69870816]\n",
      "[  55.68829403   -5.14920043  192.29323881  144.06206213   42.94498112\n",
      "   24.00625582 -110.45320009  104.94465982  182.67321936   98.27305185]\n",
      "[  55.9289269    -5.43898147  193.8178412   145.14046313   42.99936939\n",
      "   23.86197933 -111.21608173  105.49951913  184.0440928    98.83920422]\n",
      "[  56.16406993   -5.73159973  195.33196276  146.21023106   43.04811382\n",
      "   23.71244618 -111.97116101  106.04524357  185.40423981   99.39726596]\n",
      "[  56.39379766   -6.02700325  196.83570751  147.27145699   43.09130671\n",
      "   23.55774972 -112.71852674  106.58195531  186.75377989   99.9473365 ]\n",
      "[  56.61818373   -6.32514075  198.32917825  148.32423088   43.12903906\n",
      "   23.39798201 -113.45826668  107.10977497  188.09283107  100.48951404]\n",
      "[  56.83730082   -6.62596164  199.81247657  149.36864164   43.16140065\n",
      "   23.23323384 -114.19046751  107.62882161  189.42150993  101.02389558]\n",
      "[  57.05122066   -6.929416    201.28570289  150.40477713   43.18848003\n",
      "   23.06359477 -114.91521487  108.13921277  190.73993163  101.55057688]\n",
      "[  57.2600141    -7.23545455  202.74895644  151.43272416   43.21036454\n",
      "   22.88915309 -115.63259335  108.64106446  192.04820989  102.06965255]\n",
      "[  57.46375107   -7.54402869  204.20233528  152.45256849   43.22714031\n",
      "   22.70999591 -116.34268655  109.13449123  193.34645706  102.58121601]\n",
      "[  57.66250062   -7.85509044  205.64593635  153.46439488   43.23889231\n",
      "   22.5262091  -117.04557703  109.61960614  194.6347841   103.08535953]\n",
      "[  57.8563309    -8.16859246  207.07985543  154.46828709   43.24570433\n",
      "   22.33787735 -117.74134636  110.09652081  195.91330063  103.58217422]\n",
      "[  58.0453092    -8.48448803  208.5041872   155.46432788   43.24765901\n",
      "   22.14508419 -118.43007513  110.56534541  197.18211491  104.07175009]\n",
      "[  58.22950196   -8.80273108  209.91902523  156.45259902   43.24483786\n",
      "   21.94791198 -119.11184297  111.02618872  198.44133386  104.55417601]\n"
     ]
    }
   ],
   "source": [
    "obj.fit(x_train,y_train)"
   ]
  },
  {
   "cell_type": "code",
   "execution_count": 48,
   "id": "2bfe63c3",
   "metadata": {},
   "outputs": [],
   "source": [
    "y_pred=obj.predict(x_test)"
   ]
  },
  {
   "cell_type": "code",
   "execution_count": 49,
   "id": "cb13e845",
   "metadata": {},
   "outputs": [],
   "source": [
    "from sklearn.metrics import r2_score"
   ]
  },
  {
   "cell_type": "code",
   "execution_count": 50,
   "id": "b762f923",
   "metadata": {},
   "outputs": [
    {
     "data": {
      "text/plain": [
       "0.3625911725141632"
      ]
     },
     "execution_count": 50,
     "metadata": {},
     "output_type": "execute_result"
    }
   ],
   "source": [
    "r2_score(y_test,y_pred)"
   ]
  },
  {
   "cell_type": "markdown",
   "id": "571e3576",
   "metadata": {},
   "source": [
    "### make stochastic gradient descent from scratch"
   ]
  },
  {
   "cell_type": "code",
   "execution_count": 72,
   "id": "6db2df33",
   "metadata": {},
   "outputs": [],
   "source": [
    "class SGD:\n",
    "    def __init__(self,learn,epoch):\n",
    "        self.l=learn\n",
    "        self.e=epoch\n",
    "    def fit(self,x_train,y_train):\n",
    "        self.inter=0\n",
    "        self.coef=np.ones(x_train.shape[1])\n",
    "        for i in range(self.e):\n",
    "            for j in range(x_train.shape[0]):\n",
    "                index=np.random.randint(0,x_train.shape[0])\n",
    "                y_hat=self.inter+np.dot(x_train[index],self.coef)\n",
    "                loss_inter=-2*(y_train[index]-y_hat)\n",
    "                self.inter=self.inter-(self.l*loss_inter)\n",
    "                #print(self.inter)\n",
    "                \n",
    "                loss_coef=-2*np.dot((y_train[index]-y_hat),x_train[index])                    \n",
    "                self.coef=self.coef-(self.l*loss_coef)\n",
    "                #print(self.coef)\n",
    "        print(\"intercept and coefficent is\",self.inter,self.coef)\n",
    "    def predict(self,x_test):\n",
    "            return np.dot(x_test,self.coef)+self.inter    "
   ]
  },
  {
   "cell_type": "code",
   "execution_count": 86,
   "id": "b48dfd58",
   "metadata": {},
   "outputs": [],
   "source": [
    "obj=SGD(learn=0.1,epoch=45)"
   ]
  },
  {
   "cell_type": "code",
   "execution_count": 87,
   "id": "24ff5a84",
   "metadata": {},
   "outputs": [
    {
     "name": "stdout",
     "output_type": "stream",
     "text": [
      "intercept and coefficent is 140.16022310426877 [ -17.83852685 -221.88676923  527.49489244  323.92697396  -74.14316197\n",
      "  -93.26737876 -196.73880719   71.81525914  538.98721964   40.46434172]\n"
     ]
    }
   ],
   "source": [
    "obj.fit(x_train,y_train)"
   ]
  },
  {
   "cell_type": "code",
   "execution_count": 88,
   "id": "92a7be6e",
   "metadata": {},
   "outputs": [],
   "source": [
    "y_pred=obj.predict(x_test)"
   ]
  },
  {
   "cell_type": "code",
   "execution_count": 89,
   "id": "e5ed2430",
   "metadata": {},
   "outputs": [
    {
     "data": {
      "text/plain": [
       "0.420726958205041"
      ]
     },
     "execution_count": 89,
     "metadata": {},
     "output_type": "execute_result"
    }
   ],
   "source": [
    "# accuracy is increase by using stochastic gradient descent\n",
    "from sklearn.metrics import r2_score\n",
    "r2_score(y_test,y_pred)"
   ]
  },
  {
   "cell_type": "markdown",
   "id": "42aed469",
   "metadata": {},
   "source": [
    "### now building mini-batch gradient descent"
   ]
  },
  {
   "cell_type": "code",
   "execution_count": 27,
   "id": "ee3fca39",
   "metadata": {},
   "outputs": [],
   "source": [
    "class MGD:\n",
    "    def __init__(self,learn=0.01,epoch=1,batch=10):\n",
    "        self.l=learn\n",
    "        self.e=epoch\n",
    "        self.b=batch\n",
    "    def fit(self,x_train,y_train):\n",
    "        \n",
    "        \n",
    "        #initialization \n",
    "        self.intercept=0\n",
    "        self.coef=np.ones(x_train.shape[1])\n",
    "        for i in range(self.e):\n",
    "            for j in range(int((x_train.shape[0])/self.b)):\n",
    "                \n",
    "                choose=random.sample(range(0,x_train.shape[0]),self.b)\n",
    "\n",
    "                y_hat=self.intercept+np.dot(x_train[choose],self.coef)\n",
    "    #         #print(self.intercept+np.dot(x_train,self.coef))\n",
    "    #         #print(y_hat.shape)\n",
    "                loss_inter=-2*np.mean(y_train[choose]-y_hat)\n",
    "    #         #print(loss_inter)\n",
    "                self.intercept=self.intercept-(self.l*loss_inter)\n",
    "                print(self.intercept)\n",
    "\n",
    "                # for coefficient\n",
    "                loss_coef=-2*np.dot((y_train[choose]-y_hat),x_train[choose])/x_train.shape[0]\n",
    "                 #print(loss_coef)             \n",
    "                self.coef=self.coef-(self.l*loss_coef)\n",
    "                print(self.coef)\n",
    "    def predict(self,x_test):\n",
    "            return np.dot(x_test,self.coef)+self.intercept\n",
    "    "
   ]
  },
  {
   "cell_type": "code",
   "execution_count": 1,
   "id": "c07dd157",
   "metadata": {},
   "outputs": [],
   "source": [
    "import random"
   ]
  },
  {
   "cell_type": "code",
   "execution_count": 7,
   "id": "9d579499",
   "metadata": {},
   "outputs": [
    {
     "data": {
      "text/plain": [
       "[106, 297, 268, 209, 13, 8, 263, 185, 27, 112]"
      ]
     },
     "execution_count": 7,
     "metadata": {},
     "output_type": "execute_result"
    }
   ],
   "source": [
    "random.sample(range(0,x_train.shape[0]),self.b)"
   ]
  },
  {
   "cell_type": "code",
   "execution_count": 28,
   "id": "ed0c5c9a",
   "metadata": {},
   "outputs": [],
   "source": [
    "mbd=MGD()"
   ]
  },
  {
   "cell_type": "code",
   "execution_count": 29,
   "id": "046040b9",
   "metadata": {},
   "outputs": [
    {
     "name": "stdout",
     "output_type": "stream",
     "text": [
      "3.3467517692580113\n",
      "[1.00273026 1.00255564 1.00030197 1.00273574 1.00169722 1.00176652\n",
      " 0.99925909 1.00097752 1.00167287 1.00068948]\n",
      "6.018997803520795\n",
      "[1.00342841 1.0038548  1.00334266 1.00438143 1.00193153 1.00238286\n",
      " 0.99858967 1.00210117 1.00201244 1.00183778]\n",
      "8.477525504090803\n",
      "[1.00350169 1.00326083 1.00330823 1.00335728 1.00039664 1.00107085\n",
      " 0.99738409 1.00195404 1.00245107 1.0006559 ]\n",
      "11.905256861444375\n",
      "[1.00616693 1.0043848  1.00460596 1.00479912 1.00233421 1.00320957\n",
      " 0.99705174 1.00400971 1.00382216 1.0019876 ]\n",
      "14.152806957904671\n",
      "[1.00529842 1.00358175 1.00417781 1.00494483 1.00158273 1.00243176\n",
      " 0.99760547 1.00295315 1.00328285 1.00054653]\n",
      "16.55247639505719\n",
      "[1.00631709 1.00217862 1.00363833 1.00403564 0.99835057 0.99957048\n",
      " 0.99618052 1.00221565 1.0026542  0.99816985]\n",
      "19.182610998037063\n",
      "[1.00679514 1.00149206 1.00533823 1.00545338 0.99935446 0.99987027\n",
      " 0.99586674 1.00252187 1.00467434 0.99810951]\n",
      "21.38825313582419\n",
      "[1.00731116 1.00162416 1.00611578 1.00623581 1.00014055 1.00131817\n",
      " 0.99493457 1.00375744 1.00478857 1.0001448 ]\n",
      "24.11999970753642\n",
      "[1.00774851 1.00282355 1.00764821 1.00602006 1.00159137 1.00245751\n",
      " 0.9926132  1.0064955  1.00776186 1.00047645]\n",
      "26.897233767675687\n",
      "[1.00698501 1.00489297 1.00825892 1.00689699 1.00117495 1.00285547\n",
      " 0.99062208 1.00801542 1.0085     1.00288061]\n",
      "29.258173248428406\n",
      "[1.00617194 1.00489908 1.00989497 1.00878745 1.00108802 1.00285413\n",
      " 0.99154964 1.00680159 1.00757069 1.00217872]\n",
      "30.932044164116995\n",
      "[1.00706033 1.0048961  1.00939024 1.00850017 1.00058287 1.00268116\n",
      " 0.99077738 1.00718388 1.00776375 1.00201297]\n",
      "33.20238258356531\n",
      "[1.00865519 1.00503331 1.01072028 1.00966956 1.00041898 1.0031315\n",
      " 0.99060108 1.00678881 1.00679808 1.00245204]\n",
      "36.05081005614482\n",
      "[1.00910016 1.00586645 1.01293919 1.01047852 1.00008577 1.00254593\n",
      " 0.98940358 1.00707305 1.00854916 1.00536322]\n",
      "38.328001109030666\n",
      "[1.00925523 1.00465199 1.01500015 1.01248262 0.99944595 1.00181328\n",
      " 0.98863793 1.00678497 1.00945933 1.00594336]\n",
      "40.309775378440804\n",
      "[1.00972767 1.00465179 1.01378156 1.01300386 0.99873677 1.00106375\n",
      " 0.98835568 1.00668923 1.00984428 1.0060375 ]\n",
      "42.86773576532439\n",
      "[1.0109516  1.00530168 1.01692566 1.01670857 1.00008556 1.00156242\n",
      " 0.98718671 1.00724999 1.01341489 1.00770774]\n",
      "44.28178131044609\n",
      "[1.01101958 1.00499317 1.01703278 1.01588633 1.00085471 1.00202969\n",
      " 0.98759034 1.00763096 1.01410646 1.00827807]\n",
      "46.80604259445176\n",
      "[1.01199943 1.00593987 1.01912969 1.01840833 1.00007354 1.00022196\n",
      " 0.98723084 1.00758783 1.01595555 1.00989744]\n",
      "49.358881268496496\n",
      "[1.01185275 1.00489245 1.02196808 1.01998318 1.00114753 1.00089333\n",
      " 0.98811133 1.00734028 1.0167515  1.00824556]\n",
      "51.13062846673687\n",
      "[1.0129714  1.00413606 1.0220358  1.02047193 1.00227631 1.00117582\n",
      " 0.98887896 1.00745199 1.01809564 1.00776435]\n",
      "53.543420771057335\n",
      "[1.01303415 1.00533143 1.02383166 1.02099827 1.00294741 1.00152829\n",
      " 0.98726223 1.00872593 1.02094273 1.00967698]\n",
      "55.08092196462045\n",
      "[1.01146318 1.00530567 1.02431839 1.02072244 1.00329082 1.00209634\n",
      " 0.98759567 1.00819143 1.02049121 1.01039248]\n",
      "57.671457563201265\n",
      "[1.01164033 1.00572368 1.02539466 1.02314433 1.003655   1.00153917\n",
      " 0.98722991 1.0087862  1.02227603 1.00932439]\n",
      "59.00903831945132\n",
      "[1.01067614 1.0052554  1.0251984  1.02263111 1.00343075 1.00168344\n",
      " 0.98647648 1.00915792 1.02251768 1.00911246]\n",
      "59.88752717849086\n",
      "[1.01109227 1.00575145 1.02543892 1.0231826  1.00414697 1.00268701\n",
      " 0.98570906 1.01087834 1.02307553 1.00939771]\n",
      "61.29689038127794\n",
      "[1.01089171 1.00501003 1.02544027 1.02326139 1.00385386 1.00243743\n",
      " 0.98401414 1.01186879 1.02440831 1.01018139]\n",
      "63.37699061292095\n",
      "[1.00974981 1.0041301  1.02669721 1.02474659 1.00464509 1.00257371\n",
      " 0.9855243  1.0107102  1.02446295 1.00927596]\n",
      "65.91880837559448\n",
      "[1.00981604 1.00585642 1.02978702 1.02766488 1.00743284 1.00546397\n",
      " 0.98361075 1.01386021 1.02717719 1.01136577]\n",
      "68.14642073803157\n",
      "[1.01000784 1.00479483 1.03054978 1.02872895 1.00605571 1.00400166\n",
      " 0.98278054 1.01360392 1.02822907 1.01044762]\n",
      "69.15686570812122\n",
      "[1.00959251 1.00346109 1.03067052 1.02881159 1.00667856 1.00483213\n",
      " 0.98196223 1.01452546 1.02895173 1.01092746]\n",
      "71.4749516924071\n",
      "[1.01020265 1.0027416  1.03335398 1.02758375 1.00757258 1.00545483\n",
      " 0.98031059 1.01590384 1.03175837 1.01034766]\n",
      "73.26963207512527\n",
      "[1.00867723 1.00378606 1.0356928  1.02955986 1.00812229 1.00638803\n",
      " 0.97934824 1.01736637 1.03237129 1.01090147]\n",
      "74.9733789324269\n",
      "[1.00974387 1.00442618 1.03756974 1.03086191 1.00776596 1.00671532\n",
      " 0.97775915 1.01851554 1.03272089 1.01208215]\n",
      "76.0575723683966\n",
      "[1.0096358  1.00393968 1.03781976 1.03106106 1.00747138 1.00624222\n",
      " 0.97813982 1.01792596 1.03298223 1.01246768]\n"
     ]
    }
   ],
   "source": [
    "mbd.fit(x_train,y_train)"
   ]
  },
  {
   "cell_type": "code",
   "execution_count": 17,
   "id": "333e4bb4",
   "metadata": {},
   "outputs": [
    {
     "data": {
      "text/plain": [
       "35.3"
      ]
     },
     "execution_count": 17,
     "metadata": {},
     "output_type": "execute_result"
    }
   ],
   "source": [
    "x_train.shape[0]/10"
   ]
  },
  {
   "cell_type": "markdown",
   "id": "22b7ff19",
   "metadata": {},
   "source": [
    "### Polynomial Regression"
   ]
  },
  {
   "cell_type": "code",
   "execution_count": 104,
   "id": "1e696d51",
   "metadata": {},
   "outputs": [],
   "source": [
    "import numpy as np"
   ]
  },
  {
   "cell_type": "code",
   "execution_count": 105,
   "id": "711ee80c",
   "metadata": {},
   "outputs": [],
   "source": [
    "x=6*np.random.rand(200,1)-3"
   ]
  },
  {
   "cell_type": "code",
   "execution_count": 106,
   "id": "97f45526",
   "metadata": {},
   "outputs": [],
   "source": [
    "y=0.8*x**2+0.9*x+4+np.random.rand(200,1)\n"
   ]
  },
  {
   "cell_type": "code",
   "execution_count": 107,
   "id": "c40671e2",
   "metadata": {},
   "outputs": [],
   "source": [
    "import matplotlib.pyplot as plt"
   ]
  },
  {
   "cell_type": "code",
   "execution_count": 108,
   "id": "c3381143",
   "metadata": {},
   "outputs": [
    {
     "data": {
      "text/plain": [
       "[<matplotlib.lines.Line2D at 0x2ccb9b72140>]"
      ]
     },
     "execution_count": 108,
     "metadata": {},
     "output_type": "execute_result"
    },
    {
     "data": {
      "image/png": "[encoded data removed]",
      "text/plain": [
       "<Figure size 432x288 with 1 Axes>"
      ]
     },
     "metadata": {
      "needs_background": "light"
     },
     "output_type": "display_data"
    }
   ],
   "source": [
    "plt.plot(x,y,'b.')"
   ]
  },
  {
   "cell_type": "code",
   "execution_count": 16,
   "id": "1af8142c",
   "metadata": {},
   "outputs": [
    {
     "data": {
      "text/plain": [
       "array([0.83686879])"
      ]
     },
     "execution_count": 16,
     "metadata": {},
     "output_type": "execute_result"
    }
   ],
   "source": [
    "np.random.rand(1)"
   ]
  },
  {
   "cell_type": "code",
   "execution_count": 109,
   "id": "446c3b80",
   "metadata": {},
   "outputs": [],
   "source": [
    "from sklearn.preprocessing import PolynomialFeatures"
   ]
  },
  {
   "cell_type": "code",
   "execution_count": 110,
   "id": "1cac1e22",
   "metadata": {},
   "outputs": [],
   "source": [
    "pf=PolynomialFeatures()"
   ]
  },
  {
   "cell_type": "code",
   "execution_count": 111,
   "id": "18990ffa",
   "metadata": {},
   "outputs": [],
   "source": [
    "#constructing polynomial features\n",
    "X=pf.fit_transform(x)"
   ]
  },
  {
   "cell_type": "code",
   "execution_count": 82,
   "id": "a229b841",
   "metadata": {},
   "outputs": [
    {
     "data": {
      "text/plain": [
       "(array([-1.6249342]), array([ 1.        , -1.6249342 ,  2.64041115]))"
      ]
     },
     "execution_count": 82,
     "metadata": {},
     "output_type": "execute_result"
    }
   ],
   "source": [
    "x[0],X[0]"
   ]
  },
  {
   "cell_type": "code",
   "execution_count": 112,
   "id": "928bdb8d",
   "metadata": {},
   "outputs": [],
   "source": [
    "from sklearn.model_selection import train_test_split"
   ]
  },
  {
   "cell_type": "code",
   "execution_count": 113,
   "id": "6184bb57",
   "metadata": {},
   "outputs": [],
   "source": [
    "x_train,x_test,y_train,y_test=train_test_split(X,y,test_size=0.2)"
   ]
  },
  {
   "cell_type": "code",
   "execution_count": 114,
   "id": "e7f2c320",
   "metadata": {},
   "outputs": [],
   "source": [
    "from sklearn.linear_model import LinearRegression"
   ]
  },
  {
   "cell_type": "code",
   "execution_count": 115,
   "id": "49dc6283",
   "metadata": {},
   "outputs": [],
   "source": [
    "obj=LinearRegression()"
   ]
  },
  {
   "cell_type": "code",
   "execution_count": 116,
   "id": "18a71905",
   "metadata": {},
   "outputs": [
    {
     "data": {
      "text/html": [
       "<style>#sk-container-id-2 {color: black;background-color: white;}#sk-container-id-2 pre{padding: 0;}#sk-container-id-2 div.sk-toggleable {background-color: white;}#sk-container-id-2 label.sk-toggleable__label {cursor: pointer;display: block;width: 100%;margin-bottom: 0;padding: 0.3em;box-sizing: border-box;text-align: center;}#sk-container-id-2 label.sk-toggleable__label-arrow:before {content: \"▸\";float: left;margin-right: 0.25em;color: #696969;}#sk-container-id-2 label.sk-toggleable__label-arrow:hover:before {color: black;}#sk-container-id-2 div.sk-estimator:hover label.sk-toggleable__label-arrow:before {color: black;}#sk-container-id-2 div.sk-toggleable__content {max-height: 0;max-width: 0;overflow: hidden;text-align: left;background-color: #f0f8ff;}#sk-container-id-2 div.sk-toggleable__content pre {margin: 0.2em;color: black;border-radius: 0.25em;background-color: #f0f8ff;}#sk-container-id-2 input.sk-toggleable__control:checked~div.sk-toggleable__content {max-height: 200px;max-width: 100%;overflow: auto;}#sk-container-id-2 input.sk-toggleable__control:checked~label.sk-toggleable__label-arrow:before {content: \"▾\";}#sk-container-id-2 div.sk-estimator input.sk-toggleable__control:checked~label.sk-toggleable__label {background-color: #d4ebff;}#sk-container-id-2 div.sk-label input.sk-toggleable__control:checked~label.sk-toggleable__label {background-color: #d4ebff;}#sk-container-id-2 input.sk-hidden--visually {border: 0;clip: rect(1px 1px 1px 1px);clip: rect(1px, 1px, 1px, 1px);height: 1px;margin: -1px;overflow: hidden;padding: 0;position: absolute;width: 1px;}#sk-container-id-2 div.sk-estimator {font-family: monospace;background-color: #f0f8ff;border: 1px dotted black;border-radius: 0.25em;box-sizing: border-box;margin-bottom: 0.5em;}#sk-container-id-2 div.sk-estimator:hover {background-color: #d4ebff;}#sk-container-id-2 div.sk-parallel-item::after {content: \"\";width: 100%;border-bottom: 1px solid gray;flex-grow: 1;}#sk-container-id-2 div.sk-label:hover label.sk-toggleable__label {background-color: #d4ebff;}#sk-container-id-2 div.sk-serial::before {content: \"\";position: absolute;border-left: 1px solid gray;box-sizing: border-box;top: 0;bottom: 0;left: 50%;z-index: 0;}#sk-container-id-2 div.sk-serial {display: flex;flex-direction: column;align-items: center;background-color: white;padding-right: 0.2em;padding-left: 0.2em;position: relative;}#sk-container-id-2 div.sk-item {position: relative;z-index: 1;}#sk-container-id-2 div.sk-parallel {display: flex;align-items: stretch;justify-content: center;background-color: white;position: relative;}#sk-container-id-2 div.sk-item::before, #sk-container-id-2 div.sk-parallel-item::before {content: \"\";position: absolute;border-left: 1px solid gray;box-sizing: border-box;top: 0;bottom: 0;left: 50%;z-index: -1;}#sk-container-id-2 div.sk-parallel-item {display: flex;flex-direction: column;z-index: 1;position: relative;background-color: white;}#sk-container-id-2 div.sk-parallel-item:first-child::after {align-self: flex-end;width: 50%;}#sk-container-id-2 div.sk-parallel-item:last-child::after {align-self: flex-start;width: 50%;}#sk-container-id-2 div.sk-parallel-item:only-child::after {width: 0;}#sk-container-id-2 div.sk-dashed-wrapped {border: 1px dashed gray;margin: 0 0.4em 0.5em 0.4em;box-sizing: border-box;padding-bottom: 0.4em;background-color: white;}#sk-container-id-2 div.sk-label label {font-family: monospace;font-weight: bold;display: inline-block;line-height: 1.2em;}#sk-container-id-2 div.sk-label-container {text-align: center;}#sk-container-id-2 div.sk-container {/* jupyter's `normalize.less` sets `[hidden] { display: none; }` but bootstrap.min.css set `[hidden] { display: none !important; }` so we also need the `!important` here to be able to override the default hidden behavior on the sphinx rendered scikit-learn.org. See: https://github.com/scikit-learn/scikit-learn/issues/21755 */display: inline-block !important;position: relative;}#sk-container-id-2 div.sk-text-repr-fallback {display: none;}</style><div id=\"sk-container-id-2\" class=\"sk-top-container\"><div class=\"sk-text-repr-fallback\"><pre>LinearRegression()</pre><b>In a Jupyter environment, please rerun this cell to show the HTML representation or trust the notebook. <br />On GitHub, the HTML representation is unable to render, please try loading this page with nbviewer.org.</b></div><div class=\"sk-container\" hidden><div class=\"sk-item\"><div class=\"sk-estimator sk-toggleable\"><input class=\"sk-toggleable__control sk-hidden--visually\" id=\"sk-estimator-id-2\" type=\"checkbox\" checked><label for=\"sk-estimator-id-2\" class=\"sk-toggleable__label sk-toggleable__label-arrow\">LinearRegression</label><div class=\"sk-toggleable__content\"><pre>LinearRegression()</pre></div></div></div></div></div>"
      ],
      "text/plain": [
       "LinearRegression()"
      ]
     },
     "execution_count": 116,
     "metadata": {},
     "output_type": "execute_result"
    }
   ],
   "source": [
    "obj.fit(x_train,y_train)"
   ]
  },
  {
   "cell_type": "code",
   "execution_count": 117,
   "id": "2236ecea",
   "metadata": {},
   "outputs": [],
   "source": [
    "y_pred=obj.predict(x_test)"
   ]
  },
  {
   "cell_type": "code",
   "execution_count": 120,
   "id": "ff7ed28a",
   "metadata": {},
   "outputs": [
    {
     "data": {
      "text/plain": [
       "((160, 3), (160, 1))"
      ]
     },
     "execution_count": 120,
     "metadata": {},
     "output_type": "execute_result"
    }
   ],
   "source": [
    "x_train.shape,y_train.shape"
   ]
  },
  {
   "cell_type": "code",
   "execution_count": null,
   "id": "522c46f9",
   "metadata": {},
   "outputs": [],
   "source": [
    "np.meshgrid()"
   ]
  }
 ],
 "metadata": {
  "kernelspec": {
   "display_name": "Python 3 (ipykernel)",
   "language": "python",
   "name": "python3"
  },
  "language_info": {
   "codemirror_mode": {
    "name": "ipython",
    "version": 3
   },
   "file_extension": ".py",
   "mimetype": "text/x-python",
   "name": "python",
   "nbconvert_exporter": "python",
   "pygments_lexer": "ipython3",
   "version": "3.10.5"
  }
 },
 "nbformat": 4,
 "nbformat_minor": 5
}
